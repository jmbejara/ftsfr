{
 "cells": [
  {
   "cell_type": "markdown",
   "id": "3e9ed500",
   "metadata": {},
   "source": [
    "# TIPS-Treasury Arbitrage Replication (2010-2020)\n",
    "\n",
    "This notebook replicates the TIPS–Treasury arbitrage strategy for the period 2010–2020 following the methodology of Fleckenstein et al. (2014). It also outlines how a trader could implement this strategy in practice."
   ]
  },
  {
   "cell_type": "markdown",
   "id": "ee3a8bcb",
   "metadata": {},
   "source": [
    "## Methods\n",
    "\n",
    "### Replication Strategy\n",
    "\n",
    "1. **Data Sources**:\n",
    "   - **TIPS Data:** Daily yield data for TIPS from U.S. Treasury sources.\n",
    "   - **Inflation Swap Data:** Zero-coupon inflation swap rates from Bloomberg.\n",
    "   - **Nominal Treasury Data:** Daily nominal Treasury yields from CRSP.\n",
    "\n",
    "2. **Synthetic Yield Construction:**\n",
    "\n",
    "   For a given maturity \\(\\tau\\):\n",
    "\n",
    "   \\begin{equation}\n",
    "   \\text{Synthetic Yield}_{t,\\tau} = s_{t,\\tau} + f_{t,\\tau}\n",
    "   \\end{equation}\n",
    "\n",
    "   where \\(s_{t,\\tau}\\) is the TIPS yield and \\(f_{t,\\tau}\\) is the fixed rate from the inflation swap. The arbitrage spread is then:\n",
    "\n",
    "   \\begin{equation}\n",
    "   \\text{Spread}_{t,\\tau} = (s_{t,\\tau} + f_{t,\\tau}) - y_{T,t,\\tau}\n",
    "   \\end{equation}\n",
    "\n",
    "   A positive spread indicates that nominal Treasuries are overpriced relative to the synthetic yield."
   ]
  },
  {
   "cell_type": "code",
   "execution_count": null,
   "id": "e26c7d48",
   "metadata": {},
   "outputs": [],
   "source": [
    "# Import necessary libraries\n",
    "import pandas as pd\n",
    "import numpy as np\n",
    "import matplotlib.pyplot as plt\n",
    "import seaborn as sns\n",
    "import warnings\n",
    "warnings.filterwarnings('ignore')\n",
    "sns.set_theme(style=\"dark\")"
   ]
  },
  {
   "cell_type": "markdown",
   "id": "9142d05d",
   "metadata": {},
   "source": [
    "### Load Data\n",
    "\n",
    "The following cell loads the TIPS-Treasury arbitrage data from a parquet file. This file is generated from `compute_tips_treasury.py`. This formulates a tidy set of the data.\n",
    "\n",
    "- Columns starting with \"real_\": TIPS real yields for each tenor (e.g., real_cc2, real_cc5, real_cc10, real_cc20)\n",
    "expressed in decimal form (e.g., 0.02 for 2%).\n",
    "- Columns starting with \"nom_\": Computed nominal zero-coupon Treasury yields for each tenor\n",
    "(e.g., nom_zc2, nom_zc5, nom_zc10, nom_zc20) expressed in basis points.\n",
    "- Columns starting with \"tips_\": TIPS-implied risk-free rates (e.g., tips_treas_2_rf, tips_treas_5_rf,\n",
    "tips_treas_10_rf, tips_treas_20_rf) expressed in basis points.\n",
    "- Columns starting with \"arb_\": Arbitrage measures (e.g., arb_2, arb_5, arb_10, arb_20) representing the\n",
    "difference between the TIPS-implied risk-free rate and the corresponding nominal yield (tips_treas_{t}_rf - nom_zc{t}).\n"
   ]
  },
  {
   "cell_type": "code",
   "execution_count": null,
   "id": "eeb53b7e",
   "metadata": {},
   "outputs": [],
   "source": [
    "rf = pd.read_parquet(\"../_data/tips_treasury_implied_rf.parquet\")\n",
    "rf"
   ]
  },
  {
   "cell_type": "markdown",
   "id": "ae99d5c8",
   "metadata": {},
   "source": [
    "Selected region"
   ]
  },
  {
   "cell_type": "code",
   "execution_count": null,
   "id": "1e0a3b64",
   "metadata": {},
   "outputs": [],
   "source": [
    "test = pd.DataFrame(index=rf.index)\n",
    "test = rf[['arb_2', 'arb_5', 'arb_10', 'arb_20']]\n",
    "test['date'] = rf['date']\n",
    "test.index = test['date']\n",
    "test.drop('date', axis=1, inplace=True)\n",
    "test"
   ]
  },
  {
   "cell_type": "markdown",
   "id": "d95cf17e",
   "metadata": {},
   "source": [
    "### Generate Summary Statistics\n",
    "\n",
    "The cell below computes summary statistics using `generate_figures.py` for each TIPS-Treasury arbitrage series over the period 2010-2020."
   ]
  },
  {
   "cell_type": "code",
   "execution_count": null,
   "id": "8951b939",
   "metadata": {},
   "outputs": [],
   "source": [
    "import statsmodels.api as sm\n",
    "import numpy as np\n",
    "from statsmodels.regression.linear_model import OLS\n",
    "from statsmodels.tools.tools import add_constant\n",
    "import generate_figures\n",
    "\n",
    "# Compute summary statistics for the period 2010-01-01 to 2020-02-28\n",
    "summary_stats = generate_figures.generate_summary_statistics(test, '2010-01-01', '2020-02-28')\n",
    "summary_stats"
   ]
  },
  {
   "cell_type": "markdown",
   "id": "4610ce38",
   "metadata": {},
   "source": [
    "### Correlation Heatmap (as in Figure 2)"
   ]
  },
  {
   "cell_type": "code",
   "execution_count": null,
   "id": "4205ba00",
   "metadata": {},
   "outputs": [],
   "source": [
    "# Calculate the correlation matrix for 'test'\n",
    "corr_matrix = test.corr()\n",
    "\n",
    "# Set up the matplotlib figure\n",
    "plt.figure(figsize=(10, 8))\n",
    "\n",
    "# Generate the heatmap using seaborn\n",
    "sns.heatmap(corr_matrix, annot=True, fmt=\".2f\", cmap=\"coolwarm\", square=True, linewidths=.5)\n",
    "\n",
    "# Add a title\n",
    "plt.title(\"Correlation Heatmap for Arbitrage Spreads\")\n",
    "\n",
    "# Display the plot\n",
    "plt.show()"
   ]
  },
  {
   "cell_type": "markdown",
   "id": "8e5836a9",
   "metadata": {},
   "source": [
    "### Plot TIPS-Treasury Spreads\n",
    "\n",
    "The following cell plots the arbitrage spreads for various maturities (2Y, 5Y, 10Y, 20Y) over the period 2010-2020."
   ]
  },
  {
   "cell_type": "code",
   "execution_count": null,
   "id": "15107dd3",
   "metadata": {},
   "outputs": [],
   "source": [
    "fig = generate_figures.plot_tips_treasury_spreads(test, '2010-01-01', '2020-02-28')\n",
    "plt.show()"
   ]
  },
  {
   "cell_type": "markdown",
   "id": "73c78469",
   "metadata": {},
   "source": [
    "### Practical Implementation\n",
    "\n",
    "A trader could use the following steps to exploit the arbitrage opportunity:\n",
    "\n",
    "1. **Signal Identification:** Continuously monitor the arbitrage spread using updated TIPS, inflation swap, and Treasury data. A consistently positive spread signals an opportunity.\n",
    "\n",
    "2. **Position Construction:**\n",
    "   - **Long Position:** Purchase TIPS and enter into corresponding zero-coupon inflation swap contracts to convert the real cash flows into fixed nominal cash flows.\n",
    "   - **Short Position:** Short the nominal Treasury bond (or use Treasury futures/repurchase agreements as a proxy).\n",
    "\n",
    "3. **Cash Flow Matching:** Utilize Treasury STRIPS or additional derivatives to ensure that the cash flows from the long and short positions align, thereby locking in the arbitrage profit.\n",
    "\n",
    "4. **Risk Management:** Monitor execution costs, margin requirements, and liquidity risks. Funding constraints and counterparty risks must also be managed.\n",
    "\n",
    "This strategy, while theoretically risk-free, requires meticulous execution and risk management in practice."
   ]
  },
  {
   "cell_type": "markdown",
   "id": "a1dc9774",
   "metadata": {},
   "source": [
    "## Conclusion\n",
    "\n",
    "The analysis confirms that a positive TIPS-Treasury arbitrage spread persisted throughout 2010–2020. Although the magnitude of the mispricing is lower than during the earlier period covered by Fleckenstein et al. (2014), the spread remains statistically and economically significant. This persistence underscores the impact of market frictions and funding constraints on arbitrage opportunities. In practice, traders could exploit this anomaly by constructing synthetic nominal positions using TIPS, inflation swaps, and nominal Treasury bonds, while carefully managing execution and funding risks."
   ]
  }
 ],
 "metadata": {
  "language_info": {
   "name": "python"
  }
 },
 "nbformat": 4,
 "nbformat_minor": 5
}

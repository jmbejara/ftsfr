{
 "cells": [
  {
   "cell_type": "markdown",
   "id": "f1a5fc3f",
   "metadata": {},
   "source": [
    "#  Summary of CDS Return Replication"
   ]
  },
  {
   "cell_type": "code",
   "execution_count": null,
   "id": "13355c55",
   "metadata": {},
   "outputs": [],
   "source": [
    "# Imports and path setup\n",
    "import sys\n",
    "from pathlib import Path\n",
    "\n",
    "import pandas as pd\n",
    "import seaborn as sns\n",
    "from matplotlib import pyplot as plt\n",
    "\n",
    "# Plotting style\n",
    "sns.set()\n",
    "\n",
    "# Add project root to path\n",
    "project_root = Path().resolve().parent\n",
    "sys.path.insert(0, str(project_root))\n",
    "\n",
    "# Load project modules\n",
    "from cds_returns import pull_fed_yield_curve, pull_fred, pull_markit_cds\n",
    "from he_kelly_manela import pull_he_kelly_manela\n",
    "\n",
    "# Load project settings\n",
    "from settings import config\n",
    "\n",
    "DATA_DIR = Path(config(\"DATA_DIR\")) / \"cds_returns\"\n",
    "HE_DATA_DIR = Path(config(\"DATA_DIR\")) / \"he_kelly_manela\"\n"
   ]
  },
  {
   "cell_type": "code",
   "execution_count": null,
   "id": "b7e0ef72",
   "metadata": {},
   "outputs": [],
   "source": [
    "# Change default pandas display options\n",
    "pd.options.display.max_columns = 25\n",
    "pd.options.display.max_rows = 500\n",
    "pd.options.display.max_colwidth = 100\n",
    "pd.set_option(\"display.float_format\", lambda x: \"%.3f\" % x)\n",
    "\n",
    "# Change default figure size\n",
    "plt.rcParams[\"figure.figsize\"] = 6, 5"
   ]
  },
  {
   "cell_type": "markdown",
   "id": "7cf14006",
   "metadata": {},
   "source": [
    "## 1. Introduction\n",
    "\n",
    "This notebook replicates monthly CDS portfolio returns as constructed in He, Kelly, and Manela (2017) and Palhares (2013)'s paper *\"Cash-Flow Maturity and Risk Premia in CDS Markets.\"*\n",
    "\n",
    "> \"For CDS, we construct 20 portfolios sorted by spreads using individual name 5-year contracts... Our definition of CDS returns follows Palhares (2013).\"\n",
    "\n",
    "While He, Kelly, and Manela (2017) construct CDS portfolios using data up to 2012, in this notebook we extend the sample period through 2024 for demonstration purposes.  \n",
    "\n"
   ]
  },
  {
   "cell_type": "markdown",
   "id": "d0e6b839",
   "metadata": {},
   "source": [
    "### Target Replication: Quarterly CDS Return Structure\n",
    "\n",
    "The CDS return series consists of 20 portfolios, formed by sorting 5-year single-name CDS contracts into 4 quintiles based on credit spreads. Each month, returns are computed for portfolios within each quintile, producing 20 total portfolios.\n"
   ]
  },
  {
   "cell_type": "code",
   "execution_count": null,
   "id": "0fd0fb6a",
   "metadata": {},
   "outputs": [],
   "source": [
    "he_kelly = pull_he_kelly_manela.load_he_kelly_manela_all(data_dir=HE_DATA_DIR)"
   ]
  },
  {
   "cell_type": "code",
   "execution_count": null,
   "id": "68e1b587",
   "metadata": {},
   "outputs": [],
   "source": [
    "col_lst = [\"yyyymm\"]\n",
    "for i in range(1, 10):\n",
    "    col_lst.append(f\"CDS_0{i}\")\n",
    "for i in range(10, 21):\n",
    "    col_lst.append(f\"CDS_{i}\")"
   ]
  },
  {
   "cell_type": "code",
   "execution_count": null,
   "id": "92473c17",
   "metadata": {},
   "outputs": [],
   "source": [
    "he_kelly_df = he_kelly[col_lst].dropna(axis=0).set_index(\"yyyymm\")\n",
    "\n",
    "plt.plot(he_kelly_df)"
   ]
  },
  {
   "cell_type": "markdown",
   "id": "5b512314",
   "metadata": {},
   "source": [
    "## 2. Data Retrieval\n",
    "\n",
    "We retrieve the datasets required to replicate the quarterly CDS returns. Retrieval scripts are modularized by source.\n",
    "\n",
    "### 2.1 CDS Data from Markit\n",
    "\n",
    "Following He et al. and Palhares, we use Markit as the source for CDS-related information. Specifically, we filter data by the following conditions:\n",
    "\n",
    "- `currency = 'USD'`: USD-denominated CDS contracts only  \n",
    "- `docclause LIKE 'XR%%'`: Only XR (no restructuring) contracts  \n",
    "- `CompositeDepth5Y >= 3`: Minimum 3 dealer submissions for 5Y quotes  \n",
    "- `tenor IN ('1Y', '3Y', '5Y', '7Y', '10Y')`: Focus on standard maturities\n"
   ]
  },
  {
   "cell_type": "code",
   "execution_count": null,
   "id": "f887529c",
   "metadata": {},
   "outputs": [],
   "source": [
    "cds_df = pull_markit_cds.load_cds_data(data_dir=DATA_DIR)"
   ]
  },
  {
   "cell_type": "code",
   "execution_count": null,
   "id": "83b81ec0",
   "metadata": {},
   "outputs": [],
   "source": [
    "cds_df.columns"
   ]
  },
  {
   "cell_type": "markdown",
   "id": "353bc4cc",
   "metadata": {},
   "source": [
    "> **Columns in `markit_cds.parquet`**\n",
    "> \n",
    "> \n",
    "> \n",
    "> - `date`: The date on which the CDS curve was calculated.\n",
    "> \n",
    "> - `ticker`: Markit ticker symbol representing the reference entity.\n",
    "> \n",
    "> - `reddode`: Unique Markit RED (Reference Entity Database) code.\n",
    "> \n",
    "> - `parspread`: CDS par spread (in basis points); the fair premium for credit protection.\n",
    "> \n",
    "> - `convspreard`: Conversion spread used to translate CDS prices into spreads.\n",
    "> \n",
    "> - `tenor`: Maturity of the CDS contract (e.g., 1Y, 3Y, 5Y, 7Y, 10Y).\n",
    "> \n",
    "> - `country`: Country of the reference entity.\n",
    "> \n",
    "> - `creditdv01`: Change in CDS value from a 1 basis point change in credit spread.\n",
    "> \n",
    "> - `riskypv01`: Present value of the risky annuity (expected PV of CDS payments).\n",
    "> \n",
    "> - `irdv01`: Change in mark-to-market from a 1 bp shift in interest rates.\n",
    "> \n",
    "> - `rec01`: Change in value from a 1% change in the assumed recovery rate.\n",
    "> \n",
    "> - `dp`: Implied default probability of the reference entity.\n",
    "> \n",
    "> - `jtd`: Jump-to-default — change in value assuming immediate credit event.\n",
    "> \n",
    "> - `dtz`: Jump-to-zero — change in value assuming default and 0% recovery.\n",
    "> \n",
    "> - `year`: The year the data was pulled from (based on source table like `CDS2019`)."
   ]
  },
  {
   "cell_type": "markdown",
   "id": "cbcedaca",
   "metadata": {},
   "source": [
    "We have also generated two additional CDS tables, which are not used directly in our calculations but are included in the `pull_markit_cds.py` script for reference:\n",
    "\n",
    "1. `markit_red_crsp_link.parquet`:\n",
    "A mapping table that links Markit RED codes to CRSP Permnos using CUSIP and Ticker, supplemented by a fuzzy-matched name similarity score (nameRatio) and a linking flag (flg), indicating the method used (CUSIP or Ticker).\n",
    "\n",
    "2. `markit_cds_subsetted_to_crsp.parquet`:\n",
    "A filtered subset of markit_cds.parquet that includes only records with RED codes successfully matched to CRSP Permnos (where nameRatio >= 50). This table is intended for use when merging CDS data with CRSP equity or financial datasets."
   ]
  },
  {
   "cell_type": "markdown",
   "id": "b65806cd",
   "metadata": {},
   "source": [
    "### 2.2 Federal Reserve Zero-Coupon Yields\n",
    "In this step, we download and process the [U.S. Treasury zero-coupon yield curve data]((https://www.federalreserve.gov/econres/feds/the-us-treasury-yield-curve-1961-to-the-present.htm)) published by the Federal Reserve Board. This dataset is based on the Gürkaynak, Sack, and Wright (2007) methodology, which fits a smooth yield curve to observed Treasury yields.   \n",
    "We retrieve zero-coupon yield data directly from the Federal Reserve, labeled SVENY01 to SVENY30, representing 1-year to 30-year maturities.\n"
   ]
  },
  {
   "cell_type": "code",
   "execution_count": null,
   "id": "ec1d3167",
   "metadata": {},
   "outputs": [],
   "source": [
    "fed_df = pull_fed_yield_curve.load_fed_yield_curve(data_dir=DATA_DIR)"
   ]
  },
  {
   "cell_type": "code",
   "execution_count": null,
   "id": "eca04c3a",
   "metadata": {},
   "outputs": [],
   "source": [
    "fed_df.columns"
   ]
  },
  {
   "cell_type": "markdown",
   "id": "9c1493e9",
   "metadata": {},
   "source": [
    "### 2.3 Treasury Yield Data\n",
    "\n",
    "To calculate risk-free rates at shorter maturities, we also retrieve 3-month and 6-month Treasury yields (DGS3MO and DGS6MO) from FRED."
   ]
  },
  {
   "cell_type": "code",
   "execution_count": null,
   "id": "4880ac31",
   "metadata": {},
   "outputs": [],
   "source": [
    "swap_rates_df = pull_fred.load_fred(data_dir=DATA_DIR)"
   ]
  },
  {
   "cell_type": "code",
   "execution_count": null,
   "id": "730b894a",
   "metadata": {},
   "outputs": [],
   "source": [
    "swap_rates_df.head(5)"
   ]
  },
  {
   "cell_type": "markdown",
   "id": "09cb07bb",
   "metadata": {},
   "source": [
    "## 3. Replication\n",
    "\n",
    "We follow the return formula used in *He-Kelly-Manela (2017)*, referencing Palhares:\n",
    "\n",
    "$$\n",
    "\\text{CDS}^{Ret}_t = \\frac{\\text{CDS}_{t-1}}{250} + \\Delta \\text{CDS}_t \\cdot \\text{RD}_{t-1}\n",
    "$$\n",
    "\n",
    "Where:\n",
    "\n",
    "- $\\frac{\\text{CDS}_{t-1}}{250}$: **Carry return**, daily accrual from previous day’s spread (annualized over 250 days)  \n",
    "- $\\Delta \\text{CDS}_t$: Daily change in spread  \n",
    "- $\\text{RD}_{t-1}$: **Risky duration**, proxy for PV of future spread payments\n",
    "\n",
    "$$\n",
    "\\text{RD}_t = \\frac{1}{4} \\sum_{j=1}^{4M} e^{-j\\lambda/4} \\cdot e^{-jr_t^{(j/4)}/4}\n",
    "$$\n",
    "\n",
    "Where:\n",
    "\n",
    "- $M$: CDS maturity (e.g., 5)  \n",
    "- $r_t^{(j/4)}$: Quarterly risk-free rate  \n",
    "- $\\lambda$: Default intensity, computed as:\n",
    "\n",
    "$$\n",
    "\\lambda = 4 \\cdot \\log \\left(1 + \\frac{\\text{CDS}}{4L} \\right), \\quad L = 0.6\n",
    "$$\n",
    "\n",
    "\n",
    "### 3.1. Risk-Free Rate Calculation\n",
    "\n",
    "We calculate the quarterly risk-free rates $r_t^{(j/4)}$ via interpolation, since the raw data is only available annually (plus 0.25Y and 0.5Y points). Cubic interpolation fills in missing quarterly maturities.\n",
    "\n",
    "Even though returns are monthly, we retain quarterly rates under the assumption that CDS spreads are paid quarterly."
   ]
  },
  {
   "cell_type": "markdown",
   "id": "5b092d18",
   "metadata": {},
   "source": [
    "### 3.2. Monthly Return Computation\n",
    "\n",
    "We compute monthly CDS returns by applying the above formula for each individual name and maturity. Spread data is first aligned and cleaned at the monthly frequency."
   ]
  },
  {
   "cell_type": "markdown",
   "id": "8eca989b",
   "metadata": {},
   "source": [
    "### 3.3. Portfolio Construction\n",
    "\n",
    "We focus on U.S.-based 5Y CDS contracts and process spreads monthly. For each firm in each month, we keep only the **first observed 5Y par spread**, ensuring consistency in time series construction.\n",
    "\n",
    "To sort firms into credit quality groups, we compute quintiles based on the cross-sectional distribution of 5Y spreads for each month. These breakpoints define five credit buckets (quantiles 1–5), from safest to riskiest.\n",
    "\n",
    "We then assign each firm a quantile label based on their spread ranking. This quantile label is merged back into the full dataset, including other tenors (3Y, 7Y, 10Y), allowing us to analyze spread dynamics across maturities while controlling for credit quality.\n",
    "\n",
    "Finally, we compute the **average par spread** for each combination of:\n",
    "\n",
    "* Tenor ∈ {3Y, 5Y, 7Y, 10Y}\n",
    "* Credit Quantile ∈ {1, 2, 3, 4, 5}\n",
    "\n",
    "This results in 20 tenor–quantile portfolios, each with a monthly spread time series.\n",
    "\n"
   ]
  },
  {
   "cell_type": "code",
   "execution_count": null,
   "id": "771c74da",
   "metadata": {},
   "outputs": [],
   "source": [
    "final_result = pd.read_parquet(DATA_DIR / \"markit_cds_returns.parquet\")\n",
    "final_result.head(5)\n",
    "# TODO: any graphs needed?"
   ]
  }
 ],
 "metadata": {
  "language_info": {
   "name": "python"
  }
 },
 "nbformat": 4,
 "nbformat_minor": 5
}

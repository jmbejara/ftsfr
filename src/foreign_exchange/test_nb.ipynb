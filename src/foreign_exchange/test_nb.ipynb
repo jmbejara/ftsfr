{
 "cells": [
  {
   "cell_type": "code",
   "execution_count": 1,
   "id": "c0f855d6",
   "metadata": {},
   "outputs": [],
   "source": [
    "import pandas as pd\n",
    "import numpy as np\n",
    "%load_ext autoreload\n",
    "%autoreload 2"
   ]
  },
  {
   "cell_type": "code",
   "execution_count": null,
   "id": "0be7b8af",
   "metadata": {},
   "outputs": [],
   "source": [
    "# DATA_DIR = config(\"DATA_DIR\")\n",
    "\n",
    "DATA_DIR = r\"../../../FS-project_files/FX-files\"\n",
    "\n",
    "# Initial Pull and analysis\n",
    "\n",
    "FX_MONTHLY = r\"fx_monthly_data.parquet\"\n",
    "FX_DAILY = r\"fx_daily_data.parquet\""
   ]
  },
  {
   "cell_type": "code",
   "execution_count": 4,
   "id": "b3b9495f",
   "metadata": {},
   "outputs": [],
   "source": [
    "fx_month = pd.read_parquet(f\"{DATA_DIR}/{FX_MONTHLY}\")\n",
    "fx_day = pd.read_parquet(f\"{DATA_DIR}/{FX_DAILY}\")"
   ]
  },
  {
   "cell_type": "code",
   "execution_count": 7,
   "id": "6aedbcf0",
   "metadata": {},
   "outputs": [
    {
     "name": "stdout",
     "output_type": "stream",
     "text": [
      "<class 'pandas.core.frame.DataFrame'>\n",
      "RangeIndex: 649 entries, 0 to 648\n",
      "Data columns (total 48 columns):\n",
      " #   Column        Non-Null Count  Dtype         \n",
      "---  ------        --------------  -----         \n",
      " 0   date          649 non-null    datetime64[ns]\n",
      " 1   exusal        649 non-null    float64       \n",
      " 2   exalus        649 non-null    float64       \n",
      " 3   exbzus        361 non-null    float64       \n",
      " 4   excaus        649 non-null    float64       \n",
      " 5   exchus        529 non-null    float64       \n",
      " 6   exdnus        649 non-null    float64       \n",
      " 7   exhkus        529 non-null    float64       \n",
      " 8   exinus        625 non-null    float64       \n",
      " 9   exjpus        649 non-null    float64       \n",
      " 10  exkous        526 non-null    float64       \n",
      " 11  exmaus        649 non-null    float64       \n",
      " 12  exmxus        375 non-null    float64       \n",
      " 13  exusnz        649 non-null    float64       \n",
      " 14  exnzus        649 non-null    float64       \n",
      " 15  exnous        649 non-null    float64       \n",
      " 16  exsius        529 non-null    float64       \n",
      " 17  exsfus        649 non-null    float64       \n",
      " 18  exslus        625 non-null    float64       \n",
      " 19  exsdus        649 non-null    float64       \n",
      " 20  exszus        649 non-null    float64       \n",
      " 21  extaus        496 non-null    float64       \n",
      " 22  exthus        529 non-null    float64       \n",
      " 23  exusuk        649 non-null    float64       \n",
      " 24  exukus        649 non-null    float64       \n",
      " 25  exvzus        361 non-null    float64       \n",
      " 26  exauus        336 non-null    float64       \n",
      " 27  exbeus        336 non-null    float64       \n",
      " 28  exfnus        336 non-null    float64       \n",
      " 29  exfrus        336 non-null    float64       \n",
      " 30  exgeus        336 non-null    float64       \n",
      " 31  exgrus        237 non-null    float64       \n",
      " 32  exusir        336 non-null    float64       \n",
      " 33  exirus        336 non-null    float64       \n",
      " 34  exitus        336 non-null    float64       \n",
      " 35  exneus        336 non-null    float64       \n",
      " 36  expous        312 non-null    float64       \n",
      " 37  exspus        312 non-null    float64       \n",
      " 38  exusec        241 non-null    float64       \n",
      " 39  execus        241 non-null    float64       \n",
      " 40  exuseu        313 non-null    float64       \n",
      " 41  exeuus        313 non-null    float64       \n",
      " 42  twexbmth      564 non-null    float64       \n",
      " 43  twexbgsmth    229 non-null    float64       \n",
      " 44  twexmmth      564 non-null    float64       \n",
      " 45  twexafegsmth  229 non-null    float64       \n",
      " 46  twexomth      564 non-null    float64       \n",
      " 47  twexemegsmth  229 non-null    float64       \n",
      "dtypes: datetime64[ns](1), float64(47)\n",
      "memory usage: 243.5 KB\n"
     ]
    }
   ],
   "source": [
    "fx_month.info()"
   ]
  },
  {
   "cell_type": "code",
   "execution_count": 9,
   "id": "688539d0",
   "metadata": {},
   "outputs": [
    {
     "data": {
      "text/plain": [
       "Index(['date', 'exusal', 'exalus', 'exbzus', 'excaus', 'exchus', 'exdnus',\n",
       "       'exhkus', 'exinus', 'exjpus', 'exkous', 'exmaus', 'exmxus', 'exusnz',\n",
       "       'exnzus', 'exnous', 'exsius', 'exsfus', 'exslus', 'exsdus', 'exszus',\n",
       "       'extaus', 'exthus', 'exusuk', 'exukus', 'exvzus', 'exauus', 'exbeus',\n",
       "       'exfnus', 'exfrus', 'exgeus', 'exgrus', 'exusir', 'exirus', 'exitus',\n",
       "       'exneus', 'expous', 'exspus', 'exusec', 'execus', 'exuseu', 'exeuus',\n",
       "       'twexbmth', 'twexbgsmth', 'twexmmth', 'twexafegsmth', 'twexomth',\n",
       "       'twexemegsmth'],\n",
       "      dtype='object')"
      ]
     },
     "execution_count": 9,
     "metadata": {},
     "output_type": "execute_result"
    }
   ],
   "source": [
    "fx_month.columns"
   ]
  },
  {
   "cell_type": "code",
   "execution_count": 10,
   "id": "5fe51ab8",
   "metadata": {},
   "outputs": [
    {
     "data": {
      "text/plain": [
       "Index(['date', 'dexusal', 'dexalus', 'dexbzus', 'dexcaus', 'dexchus',\n",
       "       'dexdnus', 'dexhkus', 'dexinus', 'dexjpus', 'dexkous', 'dexmaus',\n",
       "       'dexmxus', 'dexusnz', 'dexnzus', 'dexnous', 'dexsius', 'dexsfus',\n",
       "       'dexslus', 'dexsdus', 'dexszus', 'dextaus', 'dexthus', 'dexusuk',\n",
       "       'dexukus', 'dexvzus', 'exauus', 'exbeus', 'exfnus', 'exfrus', 'exgeus',\n",
       "       'exgrus', 'exusir', 'exirus', 'exitus', 'exneus', 'expous', 'exspus',\n",
       "       'exusec', 'execus', 'dexuseu', 'dexeuus', 'dtwexb', 'dtwexbgs',\n",
       "       'dtwexm', 'dtwexafegs', 'dtwexo', 'dtwexemegs', 'indexgx'],\n",
       "      dtype='object')"
      ]
     },
     "execution_count": 10,
     "metadata": {},
     "output_type": "execute_result"
    }
   ],
   "source": [
    "fx_day.columns"
   ]
  },
  {
   "cell_type": "code",
   "execution_count": null,
   "id": "0d1f25a9",
   "metadata": {},
   "outputs": [],
   "source": []
  }
 ],
 "metadata": {
  "kernelspec": {
   "display_name": "myenv",
   "language": "python",
   "name": "python3"
  },
  "language_info": {
   "codemirror_mode": {
    "name": "ipython",
    "version": 3
   },
   "file_extension": ".py",
   "mimetype": "text/x-python",
   "name": "python",
   "nbconvert_exporter": "python",
   "pygments_lexer": "ipython3",
   "version": "3.12.7"
  }
 },
 "nbformat": 4,
 "nbformat_minor": 5
}

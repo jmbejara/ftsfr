{
 "cells": [
  {
   "cell_type": "markdown",
   "id": "a9991ae7",
   "metadata": {},
   "source": [
    "# OptionsFilters Summary\n",
    "\n",
    "## Imports"
   ]
  },
  {
   "cell_type": "code",
   "execution_count": null,
   "id": "e7b9252e",
   "metadata": {},
   "outputs": [],
   "source": [
    "import numpy as np\n",
    "import pandas as pd\n",
    "import random\n",
    "import seaborn as sns\n",
    "import matplotlib.pyplot as plt\n",
    "import matplotlib.cm as cm\n",
    "\n",
    "import os\n",
    "\n",
    "import sys\n",
    "\n",
    "sys.path.insert(1, \"./../src/\")\n",
    "\n",
    "import time\n",
    "\n",
    "import pull_option_data\n",
    "\n",
    "from pathlib import Path\n",
    "\n",
    "import bsm_pricer as bsm\n",
    "from settings import config\n",
    "import datetime\n",
    "import level_1_filters as f1\n",
    "import level_2_filters as f2\n",
    "import level_3_filters as f3\n",
    "import pull_option_data\n",
    "import pull_option_data as l1\n",
    "\n",
    "\n",
    "import time\n",
    "import warnings\n",
    "import wrds"
   ]
  },
  {
   "cell_type": "code",
   "execution_count": null,
   "id": "1d012c65",
   "metadata": {},
   "outputs": [],
   "source": [
    "import importlib"
   ]
  },
  {
   "cell_type": "code",
   "execution_count": null,
   "id": "0c1ba34c",
   "metadata": {},
   "outputs": [],
   "source": [
    "import plotly.express as px\n",
    "import plotly.graph_objects as go\n",
    "import plotly.io as pio\n",
    "\n",
    "pio.templates.default = \"plotly_white\"\n",
    "warnings.filterwarnings(\"ignore\")"
   ]
  },
  {
   "cell_type": "code",
   "execution_count": null,
   "id": "230f413e",
   "metadata": {},
   "outputs": [],
   "source": [
    "OUTPUT_DIR = Path(config(\"OUTPUT_DIR\"))\n",
    "DATA_DIR = Path(config(\"DATA_DIR\"))\n",
    "WRDS_USERNAME = config(\"WRDS_USERNAME\")\n",
    "DATA_DIR = DATA_DIR / \"options\"\n",
    "\n",
    "# Import dates from pull_option_data\n",
    "from pull_option_data import START_DATE_01, END_DATE_01, START_DATE_02, END_DATE_02\n",
    "\n",
    "NOTE_START = START_DATE_01\n",
    "NOTE_END = END_DATE_01"
   ]
  },
  {
   "cell_type": "code",
   "execution_count": null,
   "id": "1716f897",
   "metadata": {},
   "outputs": [],
   "source": [
    "DATE_RANGE = f\"{pd.Timestamp(START_DATE_01):%Y-%m}_{pd.Timestamp(END_DATE_02):%Y-%m}\""
   ]
  },
  {
   "cell_type": "markdown",
   "id": "f23a7a3c",
   "metadata": {},
   "source": [
    "## Function Definitions"
   ]
  },
  {
   "cell_type": "code",
   "execution_count": null,
   "id": "68d8081d",
   "metadata": {},
   "outputs": [],
   "source": [
    "def compare_filtered_data_to_orig(filtered_df, orig_df, filter_name=\"Identical Filter\"):\n",
    "    print(\"|\", filter_name, \":\")\n",
    "    print(\n",
    "        f\">> Records removed: {orig_df.shape[0] - filtered_df.shape[0]:,.0f} out of {orig_df.shape[0]:,.0f} ({(orig_df.shape[0] - filtered_df.shape[0]) / orig_df.shape[0]:,.2%})\"\n",
    "    )\n",
    "    print(\n",
    "        f\">> Filtered data shape: {filtered_df.shape[0]:,.0f} rows // {filtered_df.shape[1]:,.0f} columns\"\n",
    "    )"
   ]
  },
  {
   "cell_type": "markdown",
   "id": "a3efdc93",
   "metadata": {},
   "source": [
    "## Data Note\n",
    "\n",
    "- The original CJS 2013 paper used data from 1986 through 2012 (26 years of data).\n",
    "- Due to the unavailability of SPX option data from 1985 to 1995, we replicated the **54 CJS portfolios** using data from **January 1996 to December 2019** (23 years).\n",
    "- Our dataset (from 1996 to 2019) comprises over 19.2 million rows of SPX options data.\n",
    "- The original effectiveness of the data filters was examined in *The Puzzle of Filtering Index Options (Desai, Hammock, Holt; 2024)*. Due to similar reasons as outlined in that work (loss of data filter elegance when transposed across timeframes), we expect that the data filter parameters (and thus the portfolios constructed) will not yield identical results to the original published work, and the user should not have this expectation. \n",
    "\n",
    "*The spirit of this project is to replicate with the highest practical fidelity the *process* of data filtration and portfolio construction in the original CJS and HKM papers, without commenting on the effectiveness or appropriateness of the process and parameters. We leave that analysis to a future study.*"
   ]
  },
  {
   "cell_type": "code",
   "execution_count": null,
   "id": "71413ed4",
   "metadata": {},
   "outputs": [],
   "source": [
    "file_path = Path(DATA_DIR / \"data_1996-01_2019-12.parquet\")\n",
    "\n",
    "if file_path.exists():\n",
    "    print(\">> File already exists. Loading data from file...\")\n",
    "    # Load the data from the file\n",
    "    raw_option_data = pd.read_parquet(file_path)\n",
    "else:\n",
    "    print(\">> File does not exist. Loading data from WRDS...\")\n",
    "    # Load the data from WRDS\n",
    "    raw_option_data = pd.concat(\n",
    "        [\n",
    "            pd.read_parquet(Path(DATA_DIR / \"data_1996-01_2012-01.parquet\")),\n",
    "            pd.read_parquet(Path(DATA_DIR / \"data_2012-02_2019-12.parquet\")),\n",
    "        ]\n",
    "    )\n",
    "    raw_option_data.to_parquet(file_path)\n",
    "\n",
    "# add the mid price\n",
    "raw_option_data[\"mid_price\"] = (\n",
    "    raw_option_data[\"best_bid\"] + raw_option_data[\"best_offer\"]\n",
    ") / 2\n",
    "# adjust strike price\n",
    "raw_option_data[\"strike_price\"] /= 1000\n",
    "# calc moneyness\n",
    "raw_option_data = f1.calc_moneyness(raw_option_data)\n",
    "# rename IV column\n",
    "raw_option_data.rename(columns={\"impl_volatility\": \"IV\"}, inplace=True)\n",
    "\n",
    "raw_option_data"
   ]
  },
  {
   "cell_type": "code",
   "execution_count": null,
   "id": "d77d509e",
   "metadata": {},
   "outputs": [],
   "source": [
    "# Histogram parameters\n",
    "counts, bins, patches = plt.hist(raw_option_data[\"date\"], bins=30)\n",
    "\n",
    "# Apply magma colormap\n",
    "cmap = cm.get_cmap(\"plasma_r\", len(patches))\n",
    "normed = (counts - counts.min()) / (counts.max() - counts.min())\n",
    "for patch, norm in zip(patches, normed):\n",
    "    patch.set_facecolor(cmap(norm))\n",
    "\n",
    "# Labels and aesthetics\n",
    "plt.xlabel(\"Date\")\n",
    "plt.yscale(\"log\")\n",
    "plt.grid()\n",
    "plt.ylabel(\"Number of Observations (log scale)\")\n",
    "plt.title(\"Raw Data Over Time: Significant Increase in Observations\")\n",
    "plt.xticks(rotation=45)\n",
    "plt.tight_layout()\n",
    "plt.show()"
   ]
  },
  {
   "cell_type": "markdown",
   "id": "972f0ded",
   "metadata": {},
   "source": [
    "# 1. Data Filtration\n",
    "\n",
    "In order to minimize possible quoting errors, CJS filtered the raw options data through 3 levels of filters. The filters are applied to the trade-in (buy) side to make sure the portfolios are buying into reliable quotes. When positions are exited, if there is no quote in the filtered data, the raw data is searched. These filters are detailed in *Appendix B* of CJS. "
   ]
  },
  {
   "cell_type": "markdown",
   "id": "a4778ae0-8a95-44b8-9e3e-3d282e1856fb",
   "metadata": {},
   "source": [
    "## Level 1 Filters\n",
    "\n",
    "* **Identical Filter:** Retain only one instance of quotes with the same **option type**, **strike price**, **expiration date/maturity**, and **price**. \n",
    "\n",
    "* **Identical Except Price Filter:** There are a few sets of quotes with identical terms (**type**, **strike**, and **maturity**) but different prices. Keep the quote whose **T-bill-based implied volatility** is closest to that of its **moneyness neighbors**, and delete the others.  \n",
    "\n",
    "* **Bid = 0 Filter:** Drop quotes with a **bid price** of zero, thereby avoiding low-valued options. Also, a zero bid may indicate censoring as negative bids cannot be recorded.\n",
    "\n",
    "* **Volume = 0 Filter:** Drop quotes of zero for volumes. *Note: Appendix B of CJS does not explicitly detail this filter, but we include it here since it is included in *Table B.1. Filters* of CJS.*  \n",
    "\n"
   ]
  },
  {
   "cell_type": "markdown",
   "id": "b779e14c-4721-45ed-9f18-26463e998711",
   "metadata": {},
   "source": [
    "### Identical Filter"
   ]
  },
  {
   "cell_type": "markdown",
   "id": "cdc9c944-042e-45e1-9351-73777f3fa5a9",
   "metadata": {},
   "source": [
    "We drop records with identical **option type, strike, expiration date, and price**. In each such case, we eliminate all but one of the quotes. "
   ]
  },
  {
   "cell_type": "code",
   "execution_count": null,
   "id": "3c2962bf",
   "metadata": {},
   "outputs": [],
   "source": [
    "spx_filtered = f1.identical_filter(raw_option_data)\n",
    "spx_filtered"
   ]
  },
  {
   "cell_type": "code",
   "execution_count": null,
   "id": "827c36bd",
   "metadata": {},
   "outputs": [],
   "source": [
    "compare_filtered_data_to_orig(spx_filtered, raw_option_data, \"Identical Filter\")"
   ]
  },
  {
   "cell_type": "markdown",
   "id": "840b517e-bf36-4bd5-97bd-079f4244501c",
   "metadata": {},
   "source": [
    "### Identical Except Price Filter"
   ]
  },
  {
   "cell_type": "markdown",
   "id": "43c54d7c-be1f-4127-80e7-2b395460fcbb",
   "metadata": {},
   "source": [
    "We drop records with **identical terms (type, strike, and maturity) but different prices**. Retained quotes are those whose T-bill-based implied volatility is closest to that of its moneyness neighbors, and delete the others. "
   ]
  },
  {
   "cell_type": "code",
   "execution_count": null,
   "id": "56ab1276",
   "metadata": {},
   "outputs": [],
   "source": [
    "spx_filtered_2 = f1.identical_but_price_filter(spx_filtered)\n",
    "spx_filtered_2"
   ]
  },
  {
   "cell_type": "code",
   "execution_count": null,
   "id": "2c340d0d",
   "metadata": {},
   "outputs": [],
   "source": [
    "compare_filtered_data_to_orig(\n",
    "    spx_filtered_2, spx_filtered, \"Identical Except Price Filter:\"\n",
    ")"
   ]
  },
  {
   "cell_type": "markdown",
   "id": "c927634b-10cd-4df8-9a9f-6ba066723523",
   "metadata": {},
   "source": [
    "## Filter Options with Bid = 0 "
   ]
  },
  {
   "cell_type": "markdown",
   "id": "b0f695ab",
   "metadata": {},
   "source": [
    "We drop quotes with bids of zero (implying little to no market interest) and thereby avoiding low-valued options."
   ]
  },
  {
   "cell_type": "code",
   "execution_count": null,
   "id": "46fee8af-d972-40c2-a6dd-ba6e5ae9f5a9",
   "metadata": {},
   "outputs": [],
   "source": [
    "spx_filtered_3 = f1.delete_zero_bid_filter(spx_filtered_2)\n",
    "compare_filtered_data_to_orig(spx_filtered_3, spx_filtered_2, \"Delete Zero Bid Filter\")"
   ]
  },
  {
   "cell_type": "code",
   "execution_count": null,
   "id": "ec045d4a",
   "metadata": {},
   "outputs": [],
   "source": [
    "fig, axes = plt.subplots(1, 2, figsize=(12, 6))\n",
    "\n",
    "# Plot distribution of best_bid for optm_l1_id\n",
    "axes[0].hist(spx_filtered_2[\"best_bid\"], bins=30)\n",
    "axes[0].set_xlabel(\"Best Bid\")\n",
    "axes[0].set_ylabel(\"Frequency\")\n",
    "axes[0].set_title(\"Distribution of Best Bid - Pre-filter\")\n",
    "\n",
    "# Plot distribution of best_bid for optm_l1_zbid\n",
    "axes[1].hist(spx_filtered_3[\"best_bid\"], bins=30, color=\"darkred\")\n",
    "axes[1].set_xlabel(\"Best Bid\")\n",
    "axes[1].set_ylabel(\"Frequency\")\n",
    "axes[1].set_title(\"Distribution of Best Bid - Post-filter\")\n",
    "\n",
    "plt.tight_layout()\n",
    "plt.show()\n",
    "print(\"Need some better plots here...\")"
   ]
  },
  {
   "cell_type": "markdown",
   "id": "ea943445-c0c6-4ace-8286-12beffe5c709",
   "metadata": {},
   "source": [
    "## Filter Options with Vol = 0"
   ]
  },
  {
   "cell_type": "markdown",
   "id": "40adf70c",
   "metadata": {},
   "source": [
    "Table B.1 of *CJS 2013* appears to signal the inclusion of a Volume = 0 filter, however, Appendix B does not describe this filter. We note that there are a significant number of quotes with zero volume in our dataset, and the application of this filter would dramatically skew the results from the original dataset (with 70% of remaining records dropped using this criterion). Given that Appendix B of *CJS 2013* did not describe this filter, we assume its inclusion in Table B.1 was an error."
   ]
  },
  {
   "cell_type": "code",
   "execution_count": null,
   "id": "8edac980-d318-4ab5-bd9e-23fd9c35f210",
   "metadata": {},
   "outputs": [],
   "source": [
    "spx_filtered_4 = f1.delete_zero_volume_filter(spx_filtered_3)\n",
    "compare_filtered_data_to_orig(\n",
    "    spx_filtered_4, spx_filtered_3, \"Delete Zero Volume Filter\"\n",
    ")"
   ]
  },
  {
   "cell_type": "code",
   "execution_count": null,
   "id": "551b9af9",
   "metadata": {},
   "outputs": [],
   "source": [
    "spx_filtered_4 = spx_filtered_3.copy(deep=True)"
   ]
  },
  {
   "cell_type": "code",
   "execution_count": null,
   "id": "7146b219",
   "metadata": {},
   "outputs": [],
   "source": [
    "zero_vol_rows = spx_filtered_3[spx_filtered_3[\"volume\"] == 0]\n",
    "plt.hist(zero_vol_rows[\"date\"], bins=30)\n",
    "plt.xlabel(\"Date\")\n",
    "plt.ylabel(\"Count\")\n",
    "plt.title(\"Distribution of Options with Zero Volume\")\n",
    "plt.show()"
   ]
  },
  {
   "cell_type": "code",
   "execution_count": null,
   "id": "56556663",
   "metadata": {},
   "outputs": [],
   "source": [
    "# save L1 filtered data\n",
    "spx_l1_filtered = spx_filtered_4.copy(deep=True)\n",
    "spx_l1_filtered.to_parquet(\n",
    "    Path(DATA_DIR / f\"L1_filtered_{DATE_RANGE}.parquet\"), index=False\n",
    ")"
   ]
  },
  {
   "cell_type": "markdown",
   "id": "514a9eb0-5447-4379-ab0a-39d5abd84c73",
   "metadata": {},
   "source": [
    "---"
   ]
  },
  {
   "cell_type": "markdown",
   "id": "31ab6c9a",
   "metadata": {},
   "source": [
    "## Level 2 Filters\n",
    "\n",
    "\n",
    "* **Days to Maturity <7 or >180 Filter:** Drop options with fewer than seven or more than 180 calendar days to expiration. \n",
    "\n",
    "\n",
    "* **IV<5% or >100% Filter:** We remove all option quotes with implied volatilities lower than 5% or higher than 100%, computed using T-bill interest rates.\n",
    "\n",
    "* **Moneyness <0.8 or >1.2 Filter:** We remove all option quotes with moneyness, the ratio of strike price to index price, below 0.8 or above 1.2. These options have little value beyond their intrinsic value and are also very thinly traded.\n",
    "\n",
    "* **Implied Interest Rate <0 Filter:** When filtering outliers, we use T-bill interest rates to compute implied volatilities. T-bill interest rates are obtained from the Federal Reserve’s H.15 release. We assign a T-bill rate to each observation by assuming that we can use the next shortest rate if the time to expiration of the option is shorter than the shortest constant maturity rate.\n",
    "Our goal is to obtain an interest rate that is as close as possible to the one faced by investors in the options market. It appears that the T-bill rates are\n",
    "not the relevant ones when pricing these options. Specifically, when the T-bill rates are used, put and call implied volatilities do not line up very well; for\n",
    "example, the T-bill rate tends to be too high for short maturity options, perhaps because no T-bill has maturity of less than a month. To address these\n",
    "issues, we compute a put-call parity-implied interest rate. Since we believe that put-call parity holds reasonably well in this deep and liquid European options\n",
    "market, we use the put-call parity-implied interest rate as our interest rate in the remainder of the paper and for further filters.\n",
    "To construct this rate, we take all put-call pairs of a given maturity and impose put-call parity using the bid-ask midpoint as the price, and allowing the interest rate to adjust. We remove 89,563 pairs with a negative implied interest rate. We then take the median-implied interest rate across all remaining pairs of the same maturity with moneyness between 0.95 and 1.05 and assign it to all quotes with that maturity. We are able to directly assign an implied interest rate to 93% of our sample in this way. We fill in the gaps by interpolating across maturities and if necessary, across days. Our implied interest rate is on average 54 bps above the T-bill rate\n",
    "\n",
    "* **Unable to Compute IV Filter:** We remove quotes that imply negative time\n",
    "value.\n"
   ]
  },
  {
   "cell_type": "markdown",
   "id": "6c6b0a76",
   "metadata": {},
   "source": [
    "### Days to Maturity <7 or >180 Filter"
   ]
  },
  {
   "cell_type": "markdown",
   "id": "19254f2a",
   "metadata": {},
   "source": [
    "We drop records with days to maturity less than 7 and greater than 180 days. The short maturity options tend to move erratically close to expiration and the long maturity options lack volume and open interest."
   ]
  },
  {
   "cell_type": "code",
   "execution_count": null,
   "id": "efa9ef77",
   "metadata": {},
   "outputs": [],
   "source": [
    "spx_filtered_5 = f2.days_to_maturity_filter(spx_filtered_4, min_days=7, max_days=180)\n",
    "spx_filtered_5"
   ]
  },
  {
   "cell_type": "code",
   "execution_count": null,
   "id": "606388e0",
   "metadata": {},
   "outputs": [],
   "source": [
    "compare_filtered_data_to_orig(spx_filtered_5, spx_filtered_4, \"Days to Maturity Filter\")"
   ]
  },
  {
   "cell_type": "markdown",
   "id": "38241d9b",
   "metadata": {},
   "source": [
    "### IV<5% or >100% Filter"
   ]
  },
  {
   "cell_type": "markdown",
   "id": "543caa7e",
   "metadata": {},
   "source": [
    "We drop quotes with **implied volatilities lower than 5% or higher than 100%**, computed using T-bill interest rates of the nearest matching maturity. Such extreme IV values are likely a quotation problem or attached to low-value options."
   ]
  },
  {
   "cell_type": "code",
   "execution_count": null,
   "id": "f099b23d",
   "metadata": {},
   "outputs": [],
   "source": [
    "spx_filtered_6 = f2.iv_range_filter(spx_filtered_5, min_iv=0.05, max_iv=1.0)\n",
    "spx_filtered_6"
   ]
  },
  {
   "cell_type": "code",
   "execution_count": null,
   "id": "10790b32",
   "metadata": {},
   "outputs": [],
   "source": [
    "compare_filtered_data_to_orig(spx_filtered_6, spx_filtered_5, \"IV Range Filter\")"
   ]
  },
  {
   "cell_type": "markdown",
   "id": "e9ec3e6e",
   "metadata": {},
   "source": [
    "### Moneyness <0.8 or >1.2 Filter"
   ]
  },
  {
   "cell_type": "markdown",
   "id": "c5393f81",
   "metadata": {},
   "source": [
    "We remove all option quotes with moneyness ($\\frac{K}{S}$) below 0.8 or above 1.2. These options have little value beyond their intrinsic value and are also very thinly traded.\n"
   ]
  },
  {
   "cell_type": "code",
   "execution_count": null,
   "id": "4ca7d749",
   "metadata": {},
   "outputs": [],
   "source": [
    "spx_filtered_7 = f2.moneyness_filter(\n",
    "    spx_filtered_6, min_moneyness=0.8, max_moneyness=1.2\n",
    ")\n",
    "spx_filtered_7"
   ]
  },
  {
   "cell_type": "code",
   "execution_count": null,
   "id": "22cdf579",
   "metadata": {},
   "outputs": [],
   "source": [
    "compare_filtered_data_to_orig(spx_filtered_7, spx_filtered_6, \"Moneyness Filter\")"
   ]
  },
  {
   "cell_type": "markdown",
   "id": "b160c707",
   "metadata": {},
   "source": [
    "### Implied Interest Rate < 0 Filter"
   ]
  },
  {
   "cell_type": "markdown",
   "id": "3e304f80",
   "metadata": {},
   "source": [
    "We remove all option quotes with negative implied interest rates, assuming put-call parity. \n"
   ]
  },
  {
   "cell_type": "code",
   "execution_count": null,
   "id": "9d20366f",
   "metadata": {},
   "outputs": [],
   "source": [
    "spx_filtered_8 = f2.implied_interest_rate_filter(spx_filtered_7)\n",
    "spx_filtered_8"
   ]
  },
  {
   "cell_type": "code",
   "execution_count": null,
   "id": "1f9743d5",
   "metadata": {},
   "outputs": [],
   "source": [
    "compare_filtered_data_to_orig(\n",
    "    spx_filtered_8, spx_filtered_7, \"Negative Implied Interest Rate Filter\"\n",
    ")"
   ]
  },
  {
   "cell_type": "markdown",
   "id": "68886118",
   "metadata": {},
   "source": [
    "### Unable to Compute IV Filter"
   ]
  },
  {
   "cell_type": "markdown",
   "id": "372a5bc3",
   "metadata": {},
   "source": [
    "We remove all option quotes that imply negative time value. \n"
   ]
  },
  {
   "cell_type": "code",
   "execution_count": null,
   "id": "da29e8f8",
   "metadata": {},
   "outputs": [],
   "source": [
    "spx_filtered_9 = f2.unable_to_compute_iv_filter(spx_filtered_8)\n",
    "spx_filtered_9"
   ]
  },
  {
   "cell_type": "code",
   "execution_count": null,
   "id": "35f198a2",
   "metadata": {},
   "outputs": [],
   "source": [
    "compare_filtered_data_to_orig(\n",
    "    spx_filtered_9, spx_filtered_8, \"Unable to Compute IV Filter\"\n",
    ")"
   ]
  },
  {
   "cell_type": "code",
   "execution_count": null,
   "id": "6612db17",
   "metadata": {},
   "outputs": [],
   "source": [
    "# save L2 filtered data\n",
    "spx_l2_filtered = spx_filtered_9.copy(deep=True)\n",
    "spx_l2_filtered.to_parquet(\n",
    "    Path(DATA_DIR / f\"L2_filtered_{DATE_RANGE}.parquet\"), index=False\n",
    ")"
   ]
  },
  {
   "cell_type": "markdown",
   "id": "332d155a",
   "metadata": {},
   "source": [
    "---"
   ]
  },
  {
   "cell_type": "markdown",
   "id": "e87d9441",
   "metadata": {},
   "source": [
    "## Level 3 Filters\n",
    "\n",
    "\n",
    "* **IV Filter:** The IV filter removes volatility outliers to reduce the prevalence of apparent butterfly arbitrage. \n",
    "\n",
    "* **Put-Call Parity Filter:** The puts and calls need to be matched up based on trading date, expiry date, and option type.\n"
   ]
  },
  {
   "cell_type": "markdown",
   "id": "8d98495c",
   "metadata": {},
   "source": [
    "### IV Filter"
   ]
  },
  {
   "cell_type": "markdown",
   "id": "9906401b",
   "metadata": {},
   "source": [
    "The IV filter removes volatility outliers to reduce the prevalence of apparent butterfly arbitrage. This involves dropping calls and puts that have the same expiration date and strike price, but have anomalous prices due to extreme implied volatility values. For each *date* and *maturity*, we fit a quadratic curve to the implied volatility of puts and calls (separately) through the observed log implied volatilities."
   ]
  },
  {
   "cell_type": "code",
   "execution_count": null,
   "id": "9ec4bbd6",
   "metadata": {},
   "outputs": [],
   "source": [
    "spx_filtered_10 = f3.IV_filter(spx_filtered_9, DATE_RANGE)\n",
    "spx_filtered_10"
   ]
  },
  {
   "cell_type": "code",
   "execution_count": null,
   "id": "789fe9c6",
   "metadata": {},
   "outputs": [],
   "source": [
    "compare_filtered_data_to_orig(spx_filtered_10, spx_filtered_9, \"IV Filter\")"
   ]
  },
  {
   "cell_type": "markdown",
   "id": "7c05749c",
   "metadata": {},
   "source": [
    "### Put-Call Parity Filter"
   ]
  },
  {
   "cell_type": "markdown",
   "id": "6c027c76",
   "metadata": {},
   "source": [
    "The puts and calls need to be matched up based on trading date, expiry date, and option type. We then calculate the put-call parity implied interest rate, and filter out outliers based on the standard deviation of the relative distance between the interest rate implied by put-call parity, and the calculated daily median 3-month T-bill rate from the pulled data."
   ]
  },
  {
   "cell_type": "code",
   "execution_count": null,
   "id": "ba535f7b",
   "metadata": {},
   "outputs": [],
   "source": [
    "spx_filtered_11 = f3.put_call_filter(spx_filtered_10, DATE_RANGE)\n",
    "spx_filtered_11"
   ]
  },
  {
   "cell_type": "code",
   "execution_count": null,
   "id": "7f589c22",
   "metadata": {},
   "outputs": [],
   "source": [
    "compare_filtered_data_to_orig(\n",
    "    spx_filtered_11, spx_filtered_10, \"Put-Call Parity Filter\"\n",
    ")"
   ]
  },
  {
   "cell_type": "code",
   "execution_count": null,
   "id": "2784301b",
   "metadata": {},
   "outputs": [],
   "source": [
    "# save L3 filtered data\n",
    "spx_l3_filtered = spx_filtered_11.copy(deep=True)\n",
    "spx_l3_filtered.to_parquet(\n",
    "    Path(DATA_DIR / f\"L3_filtered_{DATE_RANGE}.parquet\"), index=False\n",
    ")"
   ]
  },
  {
   "cell_type": "code",
   "execution_count": null,
   "id": "3f272a97",
   "metadata": {},
   "outputs": [],
   "source": [
    "# save final cleaned data to folder\n",
    "spx_filtered_final = spx_filtered_11.copy(deep=True)\n",
    "\n",
    "final_savefile = DATA_DIR / f\"spx_filtered_final_{DATE_RANGE}.parquet\"\n",
    "\n",
    "try:\n",
    "    spx_filtered_final.to_parquet(final_savefile, index=True)\n",
    "    print(f\">> Final filtered data saved to {final_savefile}\")\n",
    "except FileNotFoundError:\n",
    "    print(f\">> {DATA_DIR} does not exist. Creating directory...\")\n",
    "    os.makedirs(DATA_DIR, exist_ok=True)\n",
    "    spx_filtered_final.to_parquet(final_savefile, index=True)\n",
    "    print(f\">> Final filtered data saved to {final_savefile}\")"
   ]
  },
  {
   "cell_type": "markdown",
   "id": "a6e20235",
   "metadata": {},
   "source": [
    "----"
   ]
  },
  {
   "cell_type": "markdown",
   "id": "548f2738",
   "metadata": {},
   "source": []
  }
 ],
 "metadata": {
  "language_info": {
   "name": "python"
  }
 },
 "nbformat": 4,
 "nbformat_minor": 5
}

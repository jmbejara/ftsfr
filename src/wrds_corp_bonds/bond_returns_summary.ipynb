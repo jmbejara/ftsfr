{
 "cells": [
  {
   "cell_type": "markdown",
   "metadata": {},
   "source": [
    "# Corporate Bond Returns Summary"
   ]
  },
  {
   "cell_type": "code",
   "execution_count": null,
   "metadata": {},
   "outputs": [],
   "source": [
    "import sys\n",
    "from pathlib import Path\n",
    "\n",
    "sys.path.insert(0, \"../../src\")\n",
    "\n",
    "import pandas as pd\n",
    "import polars as pl\n",
    "\n",
    "from he_kelly_manela import pull_he_kelly_manela\n",
    "from wrds_corp_bonds import pull_corp_bonds\n",
    "from settings import config\n",
    "\n",
    "DATA_DIR = Path(config(\"DATA_DIR\"))"
   ]
  },
  {
   "cell_type": "code",
   "execution_count": null,
   "metadata": {},
   "outputs": [],
   "source": [
    "hkm = pull_he_kelly_manela.load_he_kelly_manela_all(data_dir=DATA_DIR / \"he_kelly_manela\")"
   ]
  },
  {
   "cell_type": "code",
   "execution_count": null,
   "metadata": {},
   "outputs": [],
   "source": [
    "hkm"
   ]
  },
  {
   "cell_type": "code",
   "execution_count": null,
   "metadata": {},
   "outputs": [],
   "source": []
  }
 ],
 "metadata": {
  "language_info": {
   "name": "python"
  }
 },
 "nbformat": 4,
 "nbformat_minor": 2
}

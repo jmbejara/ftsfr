{
 "cells": [
  {
   "cell_type": "code",
   "execution_count": null,
   "id": "03fd6579",
   "metadata": {},
   "outputs": [],
   "source": [
    "import extract_hkm_cmdty\n",
    "import load_futures_data\n",
    "import calc_commodities_returns\n",
    "import pandas as pd\n",
    "import matplotlib.pyplot as plt\n",
    "import seaborn as sns\n",
    "import pull_bbg_commodities_basis\n",
    "from replicate_cmdty import generate_corr_matrix, decide_optimal_pairs\n",
    "\n",
    "import sys\n",
    "\n",
    "sys.path.append(\"..\")\n",
    "\n",
    "from settings import config\n",
    "\n",
    "BASE_DIR = config(\"BASE_DIR\")\n",
    "DATA_DIR = config(\"DATA_DIR\")"
   ]
  },
  {
   "cell_type": "markdown",
   "id": "f1ae13ec",
   "metadata": {},
   "source": [
    "# Cleaning Summary: Commodities Returns\n",
    "\n",
    "This notebook outlines the steps taken to generate an approximate replication of the commodity return series presented in He, Kelly, and Manela (2017).\n",
    "\n",
    "## Overview\n",
    "\n",
    "He, Kelly, and Manela constructed monthly returns for 23 commodities selected from a larger set of 31 commodities originally studied by Yang (2013). These commodities were chosen based on data availability from the Commodity Research Bureau (CRB), requiring at least 25 years of monthly returns data. He, Kelly, and Manela employed an equal-weighted portfolio of all futures contracts with maturities of four months or less, slightly modifying Yang’s original method, which used contracts with maturities between one month and twelve months.\n",
    "\n",
    "*Note: the Yang paper ranges from 197101-200812 and hkm ranges from 198609-201212*\n",
    "\n",
    "However, when attempting direct replication, we encountered significant data limitations. The CRB dataset, as originally utilized by Yang and subsequently He, Kelly, and Manela, is not readily accessible. Matching the precise contract numbers listed in Yang’s Table 1 (\"N\" values) was also impractical given current dataset constraints.\n",
    "\n",
    "> While it may not be perfectly accurate—since neither the Yang nor the HKM papers specify the yearspan of the commodities they used—we can still make a reasonable inference. Both studies rely on the same underlying dataset. By sorting Yang’s table of commodities by the number of monthly observations (N), we can roughly estimate which commodities were likely selected by HKM, given their stated requirement of at least 25 years of monthly return data.\n"
   ]
  },
  {
   "cell_type": "code",
   "execution_count": null,
   "id": "62d3d46f",
   "metadata": {},
   "outputs": [],
   "source": [
    "data = [\n",
    "    [\"Agriculture\", \"Barley\", \"WA\", 235, -3.66, 27.66, -0.24, 19.62, -1.21],\n",
    "    [\"Agriculture\", \"Butter\", \"O2\", 141, -3.68, 33.33, 3.66, 27.22, 13.46],\n",
    "    [\"Agriculture\", \"Canola\", \"WC\", 377, -2.98, 33.16, -0.18, 19.82, -0.89],\n",
    "    [\"Agriculture\", \"Cocoa\", \"CC\", 452, -2.61, 25.22, 4.52, 30.32, 14.90],\n",
    "    [\"Agriculture\", \"Coffee\", \"KC\", 420, -2.57, 36.90, 6.00, 36.52, 16.44],\n",
    "    [\"Agriculture\", \"Corn\", \"C-\", 468, -6.03, 23.08, -0.01, 23.35, -0.04],\n",
    "    [\"Agriculture\", \"Cotton\", \"CT\", 452, -1.75, 36.50, 3.60, 22.96, 15.69],\n",
    "    [\"Agriculture\", \"Lumber\", \"LB\", 468, -5.63, 33.55, -1.13, 22.80, -4.98],\n",
    "    [\"Agriculture\", \"Oats\", \"O-\", 468, -5.65, 31.20, 0.44, 28.90, 1.53],\n",
    "    [\"Agriculture\", \"Orange juice\", \"JO\", 448, -3.08, 36.61, 2.32, 29.56, 7.86],\n",
    "    [\"Agriculture\", \"Rough rice\", \"RR\", 265, -7.56, 26.04, -1.50, 25.01, -6.01],\n",
    "    [\"Agriculture\", \"Soybean meal\", \"SM\", 468, 0.20, 44.87, 7.80, 28.63, 27.25],\n",
    "    [\"Agriculture\", \"Soybeans\", \"S-\", 468, -0.58, 37.18, 5.99, 26.25, 22.81],\n",
    "    [\"Agriculture\", \"Wheat\", \"W-\", 468, -2.88, 38.68, 2.79, 23.76, 11.72],\n",
    "    [\"Energy\", \"Crude oil\", \"CL\", 295, 4.25, 66.78, 10.56, 27.87, 37.89],\n",
    "    [\"Energy\", \"Gasoline\", \"RB\", 275, 8.09, 70.91, 12.82, 30.18, 42.47],\n",
    "    [\"Energy\", \"Heating oil\", \"HO\", 345, 1.49, 55.65, 9.50, 28.65, 33.15],\n",
    "    [\"Energy\", \"Natural gas\", \"NG\", 216, -3.63, 43.06, 8.66, 34.63, 25.00],\n",
    "    [\"Energy\", \"Propane\", \"PN\", 247, 5.53, 55.47, 14.28, 34.18, 41.77],\n",
    "    [\"Energy\", \"Unleaded gas\", \"HU\", 250, 8.62, 71.20, 16.02, 29.24, 54.78],\n",
    "    [\"Livestock\", \"Broilers\", \"BR\", 19, 4.58, 52.63, 1.49, 7.28, 20.53],\n",
    "    [\"Livestock\", \"Feeder cattle\", \"FC\", 443, 0.35, 53.27, 4.43, 14.28, 31.01],\n",
    "    [\"Livestock\", \"Lean hogs\", \"LH\", 468, 2.66, 59.40, 7.98, 22.34, 35.70],\n",
    "    [\"Livestock\", \"Live cattle\", \"LC\", 468, 0.46, 50.64, 4.55, 14.92, 30.46],\n",
    "    [\"Metals\", \"Aluminum\", \"AL\", 215, 1.06, 35.35, 5.46, 19.11, 28.56],\n",
    "    [\"Metals\", \"Coal\", \"QL\", 85, -1.55, 34.12, 6.20, 30.02, 20.65],\n",
    "    [\"Metals\", \"Copper\", \"HG\", 412, 0.52, 41.75, 4.62, 25.50, 18.12],\n",
    "    [\"Metals\", \"Gold\", \"GC\", 400, -6.24, 0.00, 0.43, 19.88, 2.18],\n",
    "    [\"Metals\", \"Palladium\", \"PA\", 362, -2.16, 30.66, 10.21, 35.19, 29.01],\n",
    "    [\"Metals\", \"Platinum\", \"PL\", 410, -3.21, 23.66, 3.69, 27.81, 13.27],\n",
    "    [\"Metals\", \"Silver\", \"SI\", 419, -6.51, 1.19, 0.44, 32.09, 1.37],\n",
    "]\n",
    "\n",
    "columns = [\n",
    "    \"Sector\",\n",
    "    \"Commodity\",\n",
    "    \"Symbol\",\n",
    "    \"N\",\n",
    "    \"Basis\",\n",
    "    \"Freq. of bw.\",\n",
    "    \"E[Rᵉ]\",\n",
    "    \"σ[Rᵉ]\",\n",
    "    \"Sharpe ratio\",\n",
    "]\n",
    "\n",
    "df_yang = pd.DataFrame(data, columns=columns)\n",
    "\n",
    "print(df_yang.sort_values(\"N\", ascending=False).reset_index(drop=True))"
   ]
  },
  {
   "cell_type": "markdown",
   "id": "eb724048",
   "metadata": {},
   "source": [
    "## Approach1 -- GSCI Indices\n",
    "Fortunately, He, Kelly, and Manela mentioned an alternative method tested by Koijen, Moskowitz, Pedersen, and Vrugt (2018) (KMPV), which closely approximated their original findings. The KMPV paper explicitly provided Bloomberg tickers of 24 different commodities, enabling direct extraction of reliable and consistent monthly return data.\n",
    "\n",
    "Thus, for our replication, we adopted the Bloomberg database following KMPV’s approach. Since KMPV did not explicitly present a calculation formula but rather directly extracted monthly returns from Bloomberg, our replication followed the same straightforward procedure.\n",
    "\n"
   ]
  },
  {
   "cell_type": "code",
   "execution_count": null,
   "id": "da06f3ce",
   "metadata": {},
   "outputs": [],
   "source": [
    "df_return1 = load_futures_data.load_gsci_data(data_dir=DATA_DIR / \"commodities\")\n",
    "df_return1.info()"
   ]
  },
  {
   "cell_type": "code",
   "execution_count": null,
   "id": "59f84037",
   "metadata": {},
   "outputs": [],
   "source": [
    "df_return1.tail(5)"
   ]
  },
  {
   "cell_type": "code",
   "execution_count": null,
   "id": "ae05e983",
   "metadata": {},
   "outputs": [],
   "source": [
    "hkm_df = extract_hkm_cmdty.extract_hkm_cmdty(\n",
    "    data_dir=BASE_DIR / \"_data\" / \"he_kelly_manela\"\n",
    ")"
   ]
  },
  {
   "cell_type": "code",
   "execution_count": null,
   "id": "aae0ac18",
   "metadata": {},
   "outputs": [],
   "source": [
    "hkm_df.tail(5)"
   ]
  },
  {
   "cell_type": "markdown",
   "id": "96f7308a",
   "metadata": {},
   "source": [
    "### Matching Procedure\n",
    "\n",
    "Given that He, Kelly, and Manela presented anonymized commodities without explicit tickers or identifiers, we needed a systematic approach to match our Bloomberg-based commodities with the paper's 23 commodities. We computed the Pearson correlation matrix between our monthly return series and those presented in the paper. Then, we used the linear assignment algorithm to find the optimal one-to-one commodity matches, maximizing the total correlation between the two datasets."
   ]
  },
  {
   "cell_type": "code",
   "execution_count": null,
   "id": "0877ca17",
   "metadata": {},
   "outputs": [],
   "source": [
    "corr_matrix1 = generate_corr_matrix(df_return1.drop(columns=[\"Date\"]), hkm_df)"
   ]
  },
  {
   "cell_type": "code",
   "execution_count": null,
   "id": "18605903",
   "metadata": {},
   "outputs": [],
   "source": [
    "plt.figure(figsize=(10, 8))\n",
    "corr_matrix_float1 = corr_matrix1.astype(float)\n",
    "sns.heatmap(\n",
    "    corr_matrix_float1,\n",
    "    annot=False,\n",
    "    fmt=\".2f\",\n",
    "    cmap=\"coolwarm\",\n",
    "    vmin=-1,\n",
    "    vmax=1,\n",
    "    square=True,\n",
    "    linewidths=0.5,\n",
    "    cbar=True,\n",
    ")\n",
    "\n",
    "plt.tight_layout()\n",
    "plt.title(\"Commodity Return Correlation Matrix\")\n",
    "plt.show()"
   ]
  },
  {
   "cell_type": "code",
   "execution_count": null,
   "id": "b7e261a4",
   "metadata": {},
   "outputs": [],
   "source": [
    "optimal_pairs_df1, row_ind, col_ind = decide_optimal_pairs(corr_matrix_float1)"
   ]
  },
  {
   "cell_type": "code",
   "execution_count": null,
   "id": "651ca461",
   "metadata": {},
   "outputs": [],
   "source": [
    "ticker_to_commodity = {\n",
    "    \"SPGCBRP Index\": \"Crude Oil\",\n",
    "    \"SPGCGOP Index\": \"Gasoil\",\n",
    "    \"SPGCCLP Index\": \"WTI Crude\",\n",
    "    \"SPGCHUP Index\": \"Unl. Gasoline\",\n",
    "    \"SPGCHOP Index\": \"Heating Oil\",\n",
    "    \"SPGCNGP Index\": \"Natural Gas\",\n",
    "    \"SPGCCTP Index\": \"Cotton\",\n",
    "    \"SPGCKCP Index\": \"Coffee\",\n",
    "    \"SPGCCCP Index\": \"Cocoa\",\n",
    "    \"SPGCSBP Index\": \"Sugar\",\n",
    "    \"SPGCSOP Index\": \"Soybeans\",\n",
    "    \"SPGCKWP Index\": \"Kansas Wheat\",\n",
    "    \"SPGCCNP Index\": \"Corn\",\n",
    "    \"SPGCWHP Index\": \"Wheat\",\n",
    "    \"SPGCLHP Index\": \"Lean Hogs\",\n",
    "    \"SPGCFCP Index\": \"Feeder Cattle\",\n",
    "    \"SPGCLCP Index\": \"Live Cattle\",\n",
    "    \"SPGCGCP Index\": \"Gold\",\n",
    "    \"SPGCSIP Index\": \"Silver\",\n",
    "    \"SPGCIAP Index\": \"Aluminum\",\n",
    "    \"SPGCIKP Index\": \"Nickel\",\n",
    "    \"SPGCILP Index\": \"Lead\",\n",
    "    \"SPGCIZP Index\": \"Zinc\",\n",
    "    \"SPGCICP Index\": \"Copper\",\n",
    "}"
   ]
  },
  {
   "cell_type": "code",
   "execution_count": null,
   "id": "fc6b0669",
   "metadata": {},
   "outputs": [],
   "source": [
    "optimal_pairs_df1[\"GSCI Index\"] = optimal_pairs_df1[\"Commodity_1\"].str.replace(\n",
    "    \"_PX_LAST_Return\", \"\", regex=False\n",
    ")\n",
    "\n",
    "# Map to real commodity names\n",
    "optimal_pairs_df1[\"Commodity Name\"] = optimal_pairs_df1[\"GSCI Index\"].map(\n",
    "    ticker_to_commodity\n",
    ")\n",
    "optimal_pairs_df1 = optimal_pairs_df1.rename(columns={\"Commodity_2\": \"HKM Column Name\"})"
   ]
  },
  {
   "cell_type": "code",
   "execution_count": null,
   "id": "5a3f6928",
   "metadata": {},
   "outputs": [],
   "source": [
    "df1 = df_return1.copy()\n",
    "df2 = hkm_df.copy()\n",
    "\n",
    "for r, c in zip(row_ind, col_ind):\n",
    "    corr_value = corr_matrix1.iloc[r, c]\n",
    "    if corr_value < 0.85:\n",
    "        continue  # Skip low correlation pairs\n",
    "\n",
    "    commodity_1 = corr_matrix1.index[r]\n",
    "    commodity_2 = corr_matrix1.columns[c]\n",
    "\n",
    "    merged = (\n",
    "        pd.DataFrame(\n",
    "            {\n",
    "                \"Date\": df1[\"Date\"],\n",
    "                f\"d1_{commodity_1}\": df1[commodity_1],\n",
    "                f\"d2_{commodity_2}\": df2[commodity_2],\n",
    "            }\n",
    "        )\n",
    "        .dropna()\n",
    "        .set_index(\"Date\")\n",
    "    )\n",
    "\n",
    "    plt.figure(figsize=(8, 4))\n",
    "    plt.plot(\n",
    "        merged.index, merged[f\"d1_{commodity_1}\"], label=f\"{commodity_1}\", linewidth=2\n",
    "    )\n",
    "    plt.plot(\n",
    "        merged.index,\n",
    "        merged[f\"d2_{commodity_2}\"],\n",
    "        label=f\"{commodity_2}\",\n",
    "        linewidth=2,\n",
    "        linestyle=\"--\",\n",
    "    )\n",
    "\n",
    "    plt.title(\n",
    "        f\"Matched Pair: {commodity_1} & {commodity_2}\\nCorrelation = {corr_value:.3f}\"\n",
    "    )\n",
    "    plt.xlabel(\"Date\")\n",
    "    plt.ylabel(\"Monthly Return\")\n",
    "    plt.legend()\n",
    "    plt.grid(True)\n",
    "\n",
    "    plt.xticks()\n",
    "    plt.tight_layout()\n",
    "    plt.show()"
   ]
  },
  {
   "cell_type": "markdown",
   "id": "1e256538",
   "metadata": {},
   "source": [
    "## Generate Standardized table "
   ]
  },
  {
   "cell_type": "code",
   "execution_count": null,
   "id": "a201d03b",
   "metadata": {},
   "outputs": [],
   "source": [
    "list_of_return_ticker = optimal_pairs_df1[\"Commodity_1\"].to_list()"
   ]
  },
  {
   "cell_type": "code",
   "execution_count": null,
   "id": "de4d293a",
   "metadata": {},
   "outputs": [],
   "source": [
    "def wide_to_long_returns(df, list_of_return_ticker):\n",
    "    \"\"\"\n",
    "    Converts a wide-format return DataFrame to long-format with columns: ds, unique_id, y\n",
    "    \"\"\"\n",
    "\n",
    "    if \"yyyymm\" in df.columns:\n",
    "        id_col = \"yyyymm\"\n",
    "    elif \"Date\" in df.columns:\n",
    "        id_col = \"Date\"\n",
    "    else:\n",
    "        raise ValueError(\"No date column found!\")\n",
    "\n",
    "    cols = [id_col] + list_of_return_ticker\n",
    "    df_sub = df[cols].copy()\n",
    "\n",
    "    df_long = df_sub.melt(\n",
    "        id_vars=id_col,\n",
    "        value_vars=list_of_return_ticker,\n",
    "        var_name=\"unique_id\",\n",
    "        value_name=\"y\",\n",
    "    )\n",
    "    df_long = df_long.rename(columns={id_col: \"ds\"})\n",
    "\n",
    "    df_long = df_long.dropna(subset=[\"y\"])\n",
    "\n",
    "    df_long = df_long.sort_values([\"unique_id\", \"ds\"]).reset_index(drop=True)\n",
    "\n",
    "    return df_long[[\"unique_id\", \"ds\", \"y\"]]"
   ]
  },
  {
   "cell_type": "code",
   "execution_count": null,
   "id": "c454cd23",
   "metadata": {},
   "outputs": [],
   "source": [
    "gsci_replication_df = wide_to_long_returns(df_return1, list_of_return_ticker)"
   ]
  },
  {
   "cell_type": "code",
   "execution_count": null,
   "id": "da45dcb1",
   "metadata": {},
   "outputs": [],
   "source": [
    "gsci_replication_df.head(5)"
   ]
  },
  {
   "cell_type": "markdown",
   "id": "7161b89b",
   "metadata": {},
   "source": [
    "One source of deviation in our replication arises from differences in the underlying universe of commodities. The original HKM dataset selects 23 commodities from a broader pool of 31, whereas our replication process matches 23 out of 24 available contracts. Moreover, the two original pools themselves are not entirely overlapping, making mismatches almost inevitable. Commodities with correlations above 0.90 are likely those that overlap directly between the two datasets, while those with lower correlations often do not appear in the HKM table. Nevertheless, the strong alignment for major contracts supports the validity of using the GSCI index as an effective proxy for replicating the HKM methodology.\n",
    "\n",
    "This interpretation is further supported by Yang’s table: although our replication remains an approximation—since HKM does not explicitly use GSCI data—we observe that the highly correlated tickers typically have at least 275 monthly observations in Yang’s datasets. This pattern suggests that these commodities were very likely included in the original HKM selection due to their long return histories."
   ]
  },
  {
   "cell_type": "markdown",
   "id": "9eeb87f9",
   "metadata": {},
   "source": [
    "## Alternative Approach 1\n",
    "To closely follow the methodology of He, Kelly, and Manela (2017), we construct commodity return series based on constant one-month maturity futures prices. In their original approach, HKM derive such prices by linearly interpolating between the nearest, second-nearest, and third-nearest futures contracts. To approximate this, we use London Metal Exchange (LME) data where both cash and three-month futures prices are available, and compute a synthetic one-month price using a linear interpolation: $P_{1m} = P_{\\text{cash}} + \\frac{1}{3}(P_{3m} - P_{\\text{cash}})$. This allows us to construct a monthly price series that mirrors the one-month maturity logic applied in HKM. For other commodities, we adopt the second-nearest (month-2) Bloomberg generic contracts (e.g., CO2 Comdty, NG2 Comdty) as a practical proxy for the interpolated price. Although this is a simplification, it maintains consistency with the spirit of HKM's approach and ensures comparability across commodities where interpolation is not feasible.\n"
   ]
  },
  {
   "cell_type": "code",
   "execution_count": null,
   "id": "65ea1beb",
   "metadata": {},
   "outputs": [],
   "source": [
    "commodity_futures_df = load_futures_data.load_commodities_future(\n",
    "    data_dir=DATA_DIR / \"commodities\"\n",
    ")\n",
    "lme_df = load_futures_data.load_lme_metals(data_dir=DATA_DIR / \"commodities\")"
   ]
  },
  {
   "cell_type": "code",
   "execution_count": null,
   "id": "d5c92af4",
   "metadata": {},
   "outputs": [],
   "source": [
    "metal_map = {\n",
    "    \"Aluminum\": (\"LMAHDY Comdty_PX_LAST\", \"LMAHDS03 Comdty_PX_LAST\"),\n",
    "    \"Nickel\": (\"LMNIDY Comdty_PX_LAST\", \"LMNIDS03 Comdty_PX_LAST\"),\n",
    "    \"Lead\": (\"LMPBDY Comdty_PX_LAST\", \"LMPBDS03 Comdty_PX_LAST\"),\n",
    "    \"Zinc\": (\"LMZSDY Comdty_PX_LAST\", \"LMZSDS03 Comdty_PX_LAST\"),\n",
    "    \"Copper\": (\"LMCADY Comdty_PX_LAST\", \"LMCADS03 Comdty_PX_LAST\"),\n",
    "}\n",
    "\n",
    "monthly_1mprice = calc_commodities_returns.calc_lme_monthly_1mprice(\n",
    "    lme_df, metal_map, date_col=\"index\"\n",
    ")\n",
    "\n",
    "lme_monthly_return = calc_commodities_returns.calc_lme_monthly_return(monthly_1mprice)\n",
    "\n",
    "print(lme_monthly_return.head())"
   ]
  },
  {
   "cell_type": "code",
   "execution_count": null,
   "id": "129cf90c",
   "metadata": {},
   "outputs": [],
   "source": [
    "cmt_monthly_return = calc_commodities_returns.compute_second_contract_return(\n",
    "    commodity_futures_df\n",
    ")\n",
    "cmt_monthly_return.head()"
   ]
  },
  {
   "cell_type": "code",
   "execution_count": null,
   "id": "5abd8c01",
   "metadata": {},
   "outputs": [],
   "source": [
    "combined_df = pd.merge(\n",
    "    cmt_monthly_return,\n",
    "    lme_monthly_return.drop(columns=[\"Date\"]),\n",
    "    how=\"inner\",\n",
    "    on=[\"yyyymm\"],\n",
    "    suffixes=(\"\", \"_LME\"),\n",
    ").set_index(\"yyyymm\")"
   ]
  },
  {
   "cell_type": "code",
   "execution_count": null,
   "id": "e17b8d53",
   "metadata": {},
   "outputs": [],
   "source": [
    "common_idx = hkm_df.index.intersection(combined_df.index)"
   ]
  },
  {
   "cell_type": "code",
   "execution_count": null,
   "id": "e61aad5f",
   "metadata": {},
   "outputs": [],
   "source": [
    "he_kelly_sub = hkm_df.loc[common_idx]\n",
    "carry_sub = combined_df.loc[common_idx]"
   ]
  },
  {
   "cell_type": "code",
   "execution_count": null,
   "id": "a640191b",
   "metadata": {},
   "outputs": [],
   "source": [
    "corr_matrix2 = generate_corr_matrix(he_kelly_sub, carry_sub.drop(columns=[\"Date\"]))"
   ]
  },
  {
   "cell_type": "code",
   "execution_count": null,
   "id": "51914907",
   "metadata": {},
   "outputs": [],
   "source": [
    "plt.figure(figsize=(10, 8))\n",
    "corr_matrix_float2 = corr_matrix2.astype(float)\n",
    "sns.heatmap(\n",
    "    corr_matrix_float2,\n",
    "    annot=False,\n",
    "    fmt=\".2f\",\n",
    "    cmap=\"coolwarm\",\n",
    "    vmin=-1,\n",
    "    vmax=1,\n",
    "    square=True,\n",
    "    linewidths=0.5,\n",
    "    cbar=True,\n",
    ")\n",
    "\n",
    "plt.title(\"Correlation Heatmap\")\n",
    "plt.tight_layout()\n",
    "plt.show()"
   ]
  },
  {
   "cell_type": "code",
   "execution_count": null,
   "id": "3fd23cef",
   "metadata": {},
   "outputs": [],
   "source": [
    "optimal_pairs_df2, row_ind, col_ind = decide_optimal_pairs(corr_matrix_float2)"
   ]
  },
  {
   "cell_type": "code",
   "execution_count": null,
   "id": "3a6f4025",
   "metadata": {},
   "outputs": [],
   "source": [
    "ticker_to_commodity = {\n",
    "    \"CO2 Comdty_PX_LAST\": \"Crude Oil\",\n",
    "    \"QS2 Comdty_PX_LAST\": \"Gasoil\",\n",
    "    \"CL2 Comdty_PX_LAST\": \"WTI Crude\",\n",
    "    \"XB2 Comdty_PX_LAST\": \"Unl. Gasoline\",\n",
    "    \"HO2 Comdty_PX_LAST\": \"Heating Oil\",\n",
    "    \"NG2 Comdty_PX_LAST\": \"Natural Gas\",\n",
    "    \"CT2 Comdty_PX_LAST\": \"Cotton\",\n",
    "    \"KC2 Comdty_PX_LAST\": \"Coffee\",\n",
    "    \"CC2 Comdty_PX_LAST\": \"Cocoa\",\n",
    "    \"SB2 Comdty_PX_LAST\": \"Sugar\",\n",
    "    \"S 2 Comdty_PX_LAST\": \"Soybeans\",\n",
    "    \"KW2 Comdty_PX_LAST\": \"Kansas Wheat\",\n",
    "    \"C 2 Comdty_PX_LAST\": \"Corn\",\n",
    "    \"W 2 Comdty_PX_LAST\": \"Wheat\",\n",
    "    \"LH2 Comdty_PX_LAST\": \"Lean Hogs\",\n",
    "    \"FC2 Comdty_PX_LAST\": \"Feeder Cattle\",\n",
    "    \"LC2 Comdty_PX_LAST\": \"Live Cattle\",\n",
    "    \"GC2 Comdty_PX_LAST\": \"Gold\",\n",
    "    \"SI2 Comdty_PX_LAST\": \"Silver\",\n",
    "    \"Aluminum\": \"Aluminum\",\n",
    "    \"Nickel\": \"Nickel\",\n",
    "    \"Lead\": \"Lead\",\n",
    "    \"Zinc\": \"Zinc\",\n",
    "    \"Copper\": \"Copper\",\n",
    "}\n",
    "\n",
    "\n",
    "optimal_pairs_df2[\"Commodity_Name\"] = optimal_pairs_df2[\"Commodity_2\"].map(\n",
    "    ticker_to_commodity\n",
    ")"
   ]
  },
  {
   "cell_type": "code",
   "execution_count": null,
   "id": "a3d7aaa0",
   "metadata": {},
   "outputs": [],
   "source": [
    "optimal_pairs_df2[[\"Commodity_Name\", \"Commodity_1\", \"Correlation\"]]"
   ]
  },
  {
   "cell_type": "code",
   "execution_count": null,
   "id": "5e945246",
   "metadata": {},
   "outputs": [],
   "source": [
    "list_of_return_ticker = optimal_pairs_df2[\"Commodity_2\"].to_list()"
   ]
  },
  {
   "cell_type": "code",
   "execution_count": null,
   "id": "d8b6cf91",
   "metadata": {},
   "outputs": [],
   "source": [
    "gsci_replication_df = wide_to_long_returns(combined_df, list_of_return_ticker)"
   ]
  },
  {
   "cell_type": "code",
   "execution_count": null,
   "id": "19567f61",
   "metadata": {},
   "outputs": [],
   "source": [
    "gsci_replication_df.head(5)"
   ]
  },
  {
   "cell_type": "markdown",
   "id": "c758f9e0",
   "metadata": {},
   "source": [
    "## Alternative Approach 2 -- Spot Commodities Futures\n",
    "In this approach we use similar method as the previous approach but instead construct a “cash” return panel by combining two sources of prices. For precious metals, we use Bloomberg USD spot series obtained from `Curncy` tickers (XAUUSD, XAGUSD, XPTUSD, XPDUSD). For other commodities that lack a robust spot series in this module, we use a transparent proxy built from the first generic futures contract (`…1 Comdty`).\n",
    "\n",
    "\n"
   ]
  },
  {
   "cell_type": "code",
   "execution_count": null,
   "id": "b7e539e9",
   "metadata": {},
   "outputs": [],
   "source": [
    "commodity_spot_df = pull_bbg_commodities_basis.load_commodity_spot_proxies(\n",
    "    data_dir=DATA_DIR / \"commodities\"\n",
    ")\n",
    "precious_metal_spot_df = pull_bbg_commodities_basis.load_precious_metals_spot(\n",
    "    data_dir=DATA_DIR / \"commodities\"\n",
    ")\n",
    "spot_df = commodity_spot_df.merge(precious_metal_spot_df, on=\"index\")"
   ]
  },
  {
   "cell_type": "code",
   "execution_count": null,
   "id": "5947a6b8",
   "metadata": {},
   "outputs": [],
   "source": [
    "spot_df.columns"
   ]
  },
  {
   "cell_type": "code",
   "execution_count": null,
   "id": "8bdbd1a6",
   "metadata": {},
   "outputs": [],
   "source": [
    "monthly_return = calc_commodities_returns.monthly_returns_mixed_prices(spot_df)"
   ]
  },
  {
   "cell_type": "code",
   "execution_count": null,
   "id": "0f790c20",
   "metadata": {},
   "outputs": [],
   "source": [
    "common_idx = hkm_df.index.intersection(monthly_return.index)"
   ]
  },
  {
   "cell_type": "code",
   "execution_count": null,
   "id": "2fc37c70",
   "metadata": {},
   "outputs": [],
   "source": [
    "he_kelly_sub = hkm_df.loc[common_idx]\n",
    "carry_sub = monthly_return.loc[common_idx]"
   ]
  },
  {
   "cell_type": "code",
   "execution_count": null,
   "id": "359a3c89",
   "metadata": {},
   "outputs": [],
   "source": [
    "corr_matrix3 = generate_corr_matrix(he_kelly_sub, carry_sub.drop(columns=[\"Date\"]))"
   ]
  },
  {
   "cell_type": "code",
   "execution_count": null,
   "id": "431ea7aa",
   "metadata": {},
   "outputs": [],
   "source": [
    "plt.figure(figsize=(10, 8))\n",
    "corr_matrix_float3 = corr_matrix3.astype(float)\n",
    "sns.heatmap(\n",
    "    corr_matrix_float3,\n",
    "    annot=False,\n",
    "    fmt=\".2f\",\n",
    "    cmap=\"coolwarm\",\n",
    "    vmin=-1,\n",
    "    vmax=1,\n",
    "    square=True,\n",
    "    linewidths=0.5,\n",
    "    cbar=True,\n",
    ")\n",
    "\n",
    "plt.title(\"Correlation Heatmap\")\n",
    "plt.tight_layout()\n",
    "plt.show()"
   ]
  },
  {
   "cell_type": "code",
   "execution_count": null,
   "id": "b7382dec",
   "metadata": {},
   "outputs": [],
   "source": [
    "optimal_pairs_df3, row_ind, col_ind = decide_optimal_pairs(corr_matrix_float3)"
   ]
  },
  {
   "cell_type": "code",
   "execution_count": null,
   "id": "a309f60c",
   "metadata": {},
   "outputs": [],
   "source": [
    "ticker_to_name = {\n",
    "    \"GC1\": \"Gold\",\n",
    "    \"SI1\": \"Silver\",\n",
    "    \"PL1\": \"Platinum\",\n",
    "    \"CC1\": \"Cocoa\",\n",
    "    \"KC1\": \"Coffee\",\n",
    "    \"S 1\": \"Soybeans\",\n",
    "    \"PA1\": \"Palladium\",\n",
    "    \"JO1\": \"Orange Juice\",\n",
    "    \"C 1\": \"Corn\",\n",
    "    \"CL1\": \"WTI Crude Oil\",\n",
    "    \"SM1\": \"Soybean Meal\",\n",
    "    \"W 1\": \"Wheat (SRW)\",\n",
    "    \"O 1\": \"Oats\",\n",
    "    \"CT1\": \"Cotton\",\n",
    "    \"LB1\": \"Lumber\",\n",
    "    \"HO1\": \"Heating Oil\",\n",
    "    \"FC1\": \"Feeder Cattle\",\n",
    "    \"HG1\": \"Copper\",\n",
    "    \"CO1\": \"Brent Crude Oil\",\n",
    "    \"RR1\": \"Rough Rice\",\n",
    "    \"LC1\": \"Live Cattle\",\n",
    "    \"LH1\": \"Lean Hogs\",\n",
    "    \"KW1\": \"Kansas Wheat (HRW)\",\n",
    "}\n",
    "optimal_pairs_df3[\"Commodity_Name\"] = optimal_pairs_df3[\"Commodity_2\"].map(\n",
    "    ticker_to_name\n",
    ")\n"
   ]
  },
  {
   "cell_type": "code",
   "execution_count": null,
   "id": "f688766a",
   "metadata": {},
   "outputs": [],
   "source": [
    "optimal_pairs_df3"
   ]
  },
  {
   "cell_type": "markdown",
   "id": "5ebb34ce",
   "metadata": {},
   "source": []
  }
 ],
 "metadata": {
  "language_info": {
   "name": "python"
  }
 },
 "nbformat": 4,
 "nbformat_minor": 5
}

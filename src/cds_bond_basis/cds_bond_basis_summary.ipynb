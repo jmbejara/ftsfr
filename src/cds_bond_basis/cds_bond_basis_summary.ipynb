{
 "cells": [
  {
   "cell_type": "markdown",
   "metadata": {},
   "source": [
    "# CDS Bond Basis Summary"
   ]
  },
  {
   "cell_type": "code",
   "execution_count": null,
   "metadata": {},
   "outputs": [],
   "source": [
    "import sys\n",
    "from pathlib import Path\n",
    "\n",
    "sys.path.insert(0, \"../../src\")\n",
    "\n",
    "import pandas as pd\n",
    "import polars as pl\n",
    "\n",
    "from he_kelly_manela import pull_he_kelly_manela\n",
    "from wrds_markit import pull_markit_cds, pull_fed_yield_curve\n",
    "from settings import config\n",
    "\n",
    "DATA_DIR = Path(config(\"DATA_DIR\"))"
   ]
  },
  {
   "cell_type": "markdown",
   "metadata": {},
   "source": [
    "## Z-Spread (Zero-Volatility Spread)\n",
    "\n",
    "**Mathematical definition**\n",
    "\n",
    "For a bond with cash-flows $CF_t$ at times $t=1,\\dots,N$ and Treasury spot rates $s_t$,\n",
    "\n",
    "$$\n",
    "P = \\sum_{t=1}^{N} \\frac{CF_t}{\\bigl(1+s_t+Z\\bigr)^t}.\n",
    "$$\n",
    "\n",
    "The constant $Z$ that solves this equation is the **Z-spread**.\n",
    "\n",
    "**Intuition**\n",
    "\n",
    "$Z$ is the uniform extra yield added to every point on the risk-free spot curve so that the discounted cash-flows equal the bond’s dirty price $P$. It compensates investors for credit and liquidity risk relative to Treasuries.\n",
    "\n",
    "\n",
    "### Link to Yield-to-Maturity\n",
    "\n",
    "Setting the Z-spread pricing equation equal to the standard YTM equation gives\n",
    "\n",
    "$$\n",
    "\n",
    "\\sum_{t=1}^{N}\\frac{CF_t}{(1+y)^t}\n",
    "=\\sum_{t=1}^{N}\\frac{CF_t}{\\bigl(1+s_t+Z\\bigr)^t}\n",
    "\\tag{A1}\n",
    "$$\n",
    "\n",
    "where $y$ is the bond’s yield-to-maturity.  Except for the trivial flat-curve case ($s_t=s$), (A1) has no algebraic solution—$y$ or $Z$ must be found numerically.\n",
    "\n",
    "\n",
    "### Continuous-Compounding Identity\n",
    "\n",
    "Rewrite discounts as $e^{-r t}$.  With PV-weights\n",
    "\n",
    "$$\n",
    "w_t=\\frac{CF_t\\,e^{-(s_t+Z)t}}{P},\\qquad\\sum_{t}w_t=1,\n",
    "$$\n",
    "\n",
    "equation (A1) yields the convenient mean-value relationship\n",
    "\n",
    "$$\n",
    "y \\;=\\; \\sum_{t=1}^{N} w_t\\,(s_t+Z)\\tag{A2}\n",
    "$$\n",
    "\n",
    "Thus YTM is the PV-weighted average of the spot rates plus the Z-spread.\n",
    "\n",
    "\n",
    "### Practical Proxy: YTM Credit Spread\n",
    "\n",
    "Analysts often approximate $Z$ with the **credit spread**\n",
    "\n",
    "$$\n",
    "\\Delta y = y_{\\text{bond}} - y_{\\text{Treasury-DM}},\n",
    "$$\n",
    "\n",
    "where $y_{\\text{Treasury-DM}}$ is the yield on a Treasury portfolio matched to the bond’s (modified) duration.\n",
    "\n",
    "**Why it works**\n",
    "\n",
    "1. A small parallel shift $Z$ applied to all discount rates changes price by $-D_{\\text{mod}}\\;Z$.  For modest spreads, this produces nearly the same price change as replacing the spot curve with a single rate shift $\\Delta y$.  \n",
    "2. Duration-matching the Treasury benchmark neutralises curve-shape effects, so $\\Delta y$ isolates the average extra yield attributable to credit/liquidity risk.  \n",
    "3. Empirically, $\\Delta y$ tracks $Z$ closely for plain-vanilla, option-free bonds, making it a “good-enough” proxy when full spot-curve data or iterative Z-spread calculations are impractical.\n",
    "\n"
   ]
  },
  {
   "cell_type": "markdown",
   "metadata": {},
   "source": []
  }
 ],
 "metadata": {
  "language_info": {
   "name": "python"
  }
 },
 "nbformat": 4,
 "nbformat_minor": 2
}

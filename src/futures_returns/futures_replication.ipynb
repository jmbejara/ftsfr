{
 "cells": [
  {
   "cell_type": "markdown",
   "id": "47a0916f",
   "metadata": {},
   "source": [
    "for this file, I am going to try the group-9 methods again and to see if any improvements could be made to improve the replication quality on the yang table 1 results, and to replicate the he-kelly-manela commodities return results."
   ]
  },
  {
   "cell_type": "code",
   "execution_count": null,
   "id": "c5ce3a7b",
   "metadata": {},
   "outputs": [],
   "source": [
    "import pandas as pd\n",
    "import load_futures_data"
   ]
  },
  {
   "cell_type": "code",
   "execution_count": null,
   "id": "2120166b",
   "metadata": {},
   "outputs": [],
   "source": [
    "wrds_futures = load_futures_data.load_wrds_futures()"
   ]
  },
  {
   "cell_type": "code",
   "execution_count": null,
   "id": "c8e828ed",
   "metadata": {},
   "outputs": [],
   "source": [
    "wrds_futures.head(5)"
   ]
  },
  {
   "cell_type": "code",
   "execution_count": null,
   "id": "c05a55ca",
   "metadata": {},
   "outputs": [],
   "source": [
    "wrds_futures[\"contrdate\"]"
   ]
  },
  {
   "cell_type": "code",
   "execution_count": null,
   "id": "f228f5d2",
   "metadata": {},
   "outputs": [],
   "source": [
    "def parse_contrdate(c):\n",
    "    \"\"\"\n",
    "    Parse a contract date string (MMYY or MM/YY) into a monthly pandas.Period.\n",
    "\n",
    "    Parameters\n",
    "    ----------\n",
    "    c : str\n",
    "        Contract date in the format 'MMYY' or 'MM/YY'.\n",
    "\n",
    "    Returns\n",
    "    -------\n",
    "    pandas.Period\n",
    "        A monthly Period object corresponding to the parsed year and month.\n",
    "    \"\"\"\n",
    "    try:\n",
    "        c = c.replace('/', '')\n",
    "        mm = int(c[:2])\n",
    "        yy = int(c[2:])\n",
    "        year = 2000 + yy if yy < 50 else 1900 + yy\n",
    "        return pd.Period(f'{year}-{mm:02d}', freq='M')\n",
    "    except:\n",
    "        return pd.NaT  # or None\n",
    "\n",
    "\n",
    "\n",
    "def futures_series_to_monthly(df):\n",
    "    \"\"\"\n",
    "    Convert a daily futures DataFrame into a monthly frequency by taking\n",
    "    the last available daily row for each (futcode, month). Also parses\n",
    "    contract periods and drops date columns to produce a final monthly dataset.\n",
    "\n",
    "    Parameters\n",
    "    ----------\n",
    "    df : pandas.DataFrame\n",
    "        Must contain columns ['futcode', 'date_', 'contrdate', 'settlement'].\n",
    "\n",
    "    Returns\n",
    "    -------\n",
    "    pandas.DataFrame\n",
    "        Monthly data with columns ['futcode', 'contr_period', 'obs_period', 'settlement'].\n",
    "        Each row corresponds to the last daily entry in that month for the given futcode.\n",
    "    \"\"\"\n",
    "\n",
    "    \n",
    "    df = df.sort_values([\"futcode\", \"date\"])\n",
    "    monthly_df = df.groupby([\"futcode\", df[\"date\"].dt.to_period(\"M\")]).tail(1).copy()\n",
    "\n",
    "    monthly_df[\"contr_period\"] = monthly_df[\"contrdate\"].apply(parse_contrdate)\n",
    "    monthly_df[\"obs_period\"]   = monthly_df[\"date\"].dt.to_period(\"M\")\n",
    "\n",
    "    monthly_df = monthly_df.drop(columns=[\"date\", \"contrdate\"])\n",
    "    monthly_df = monthly_df.sort_values(by=[\"obs_period\",\"contr_period\"])\n",
    "    return monthly_df"
   ]
  },
  {
   "cell_type": "code",
   "execution_count": null,
   "id": "dc9f65fd",
   "metadata": {},
   "outputs": [],
   "source": [
    "monthly_df = futures_series_to_monthly(wrds_futures)"
   ]
  },
  {
   "cell_type": "code",
   "execution_count": null,
   "id": "be4b69ca",
   "metadata": {},
   "outputs": [],
   "source": [
    "\n",
    "monthly_df = monthly_df[~monthly_df[\"settlement\"].isna()]"
   ]
  },
  {
   "cell_type": "code",
   "execution_count": null,
   "id": "03975307",
   "metadata": {},
   "outputs": [],
   "source": [
    "monthly_df[monthly_df[\"contr_period\"].isna()]"
   ]
  },
  {
   "cell_type": "code",
   "execution_count": null,
   "id": "cc353e2f",
   "metadata": {},
   "outputs": [],
   "source": [
    "#yang paper started at 01 1973\n",
    "monthly_df"
   ]
  },
  {
   "cell_type": "code",
   "execution_count": null,
   "id": "58aad3c8",
   "metadata": {},
   "outputs": [],
   "source": [
    "\n",
    "import numpy as np\n",
    "def compute_monthly_basis(monthly_df):\n",
    "    \"\"\"\n",
    "    Compute the monthly basis for each product and observation period.\n",
    "\n",
    "    Parameters\n",
    "    ----------\n",
    "    monthly_df : pandas.DataFrame\n",
    "        DataFrame with columns ['product_code', 'obs_period', 'contr_period', 'settlement'].\n",
    "        Each row is a futures contract with a settlement price and a delivery date.\n",
    "\n",
    "    Returns\n",
    "    -------\n",
    "    pandas.DataFrame\n",
    "        DataFrame with columns ['product_code', 'obs_period', 'basis'] containing\n",
    "        the log-slope basis for each product and observation period, annualized.\n",
    "    \"\"\"\n",
    "\n",
    "    # Ensure correct types\n",
    "    monthly_df = monthly_df.copy()\n",
    "    # monthly_df[\"contr_period\"] = pd.to_datetime(monthly_df[\"contr_period\"]).dt.to_period(\"M\")\n",
    "    # monthly_df[\"obs_period\"] = pd.to_datetime(monthly_df[\"obs_period\"]).dt.to_period(\"M\")\n",
    "\n",
    "    # Calculate months to maturity\n",
    "    monthly_df[\"months_to_maturity\"] = (monthly_df[\"contr_period\"] - monthly_df[\"obs_period\"]).apply(lambda x: x.n)\n",
    "\n",
    "    # Filter only contracts with 1 <= maturity <= 12\n",
    "    valid_contracts = monthly_df[(monthly_df[\"months_to_maturity\"] >= 1) & (monthly_df[\"months_to_maturity\"] <= 12)]\n",
    "\n",
    "    basis_list = []\n",
    "\n",
    "    grouped = valid_contracts.groupby([\"product_code\", \"obs_period\"])\n",
    "\n",
    "    for (product_code, obs_period), group in grouped:\n",
    "        if group.shape[0] < 2:\n",
    "            continue  # Skip if not enough contracts to compute slope\n",
    "\n",
    "        group = group.sort_values(\"months_to_maturity\")\n",
    "\n",
    "        f1 = group.iloc[0]\n",
    "        f2 = group.iloc[-1]\n",
    "\n",
    "        T1 = f1[\"months_to_maturity\"]\n",
    "        T2 = f2[\"months_to_maturity\"]\n",
    "\n",
    "        try:\n",
    "            log_diff = np.log(f1[\"settlement\"]) - np.log(f2[\"settlement\"])\n",
    "            # I times 100 here to adhere to the group-9 formula and it actually presents a better result.\n",
    "            basis = log_diff / (T2 - T1) * 100\n",
    "            basis_annualized = basis * 12\n",
    "            basis_list.append({\n",
    "                \"product_code\": product_code,\n",
    "                \"obs_period\": obs_period,\n",
    "                \"basis\": basis_annualized\n",
    "            })\n",
    "        except (ValueError, ZeroDivisionError, FloatingPointError):\n",
    "            continue\n",
    "\n",
    "    basis_df = pd.DataFrame(basis_list)\n",
    "    return basis_df"
   ]
  },
  {
   "cell_type": "code",
   "execution_count": null,
   "id": "e223af23",
   "metadata": {},
   "outputs": [],
   "source": [
    "basis_df = compute_monthly_basis(monthly_df)"
   ]
  },
  {
   "cell_type": "code",
   "execution_count": null,
   "id": "fab029c9",
   "metadata": {},
   "outputs": [],
   "source": [
    "basis_df"
   ]
  },
  {
   "cell_type": "code",
   "execution_count": null,
   "id": "c8235734",
   "metadata": {},
   "outputs": [],
   "source": [
    "def compute_excess_returns(monthly_df):\n",
    "    df = monthly_df[[\"product_code\", \"obs_period\", \"contr_period\", \"settlement\"]].copy()\n",
    "    df.rename(columns={\"obs_period\": \"t\", \"contr_period\": \"T\", \"settlement\": \"F\"}, inplace=True)\n",
    "    df[\"maturity\"] = (df[\"T\"] - df[\"t\"]).apply(lambda x: x.n)\n",
    "    df = df[df[\"maturity\"] > 1]\n",
    "\n",
    "    df_shifted = df.copy()\n",
    "    df_shifted[\"t\"] = df_shifted[\"t\"] - 1\n",
    "    df_shifted.rename(columns={\"F\": \"F_next\"}, inplace=True)\n",
    "\n",
    "    merged = pd.merge(\n",
    "        df,\n",
    "        df_shifted[[\"product_code\", \"t\", \"T\", \"F_next\"]],\n",
    "        on=[\"product_code\", \"t\", \"T\"],\n",
    "        how=\"inner\"\n",
    "    )\n",
    "\n",
    "    merged[\"excess_ret\"] = merged[\"F_next\"] / merged[\"F\"] - 1\n",
    "\n",
    "    summary = merged.groupby(\"product_code\")[\"excess_ret\"].agg(\n",
    "        mean_ret=lambda x: x.mean() * 12,\n",
    "        std_ret=lambda x: x.std() * np.sqrt(12),\n",
    "        n=\"count\"\n",
    "    ).reset_index()\n",
    "    summary[\"Sharpe_ratio\"] = summary[\"mean_ret\"] / summary[\"std_ret\"]\n",
    "    return merged, summary\n"
   ]
  },
  {
   "cell_type": "code",
   "execution_count": null,
   "id": "1b9623ae",
   "metadata": {},
   "outputs": [],
   "source": [
    "def compute_summary_stats(basis_df: pd.DataFrame) -> pd.DataFrame:\n",
    "    \"\"\"\n",
    "    Replicates Table 1 in Yang (2013) using basis data:\n",
    "    - Basis (mean)\n",
    "    - Frequency of backwardation\n",
    "    - E[Re] = mean return\n",
    "    - σ[Re] = std dev of return\n",
    "    - Sharpe ratio\n",
    "\n",
    "    Parameters\n",
    "    ----------\n",
    "    basis_df : pd.DataFrame\n",
    "        Must contain columns ['product_code', 'obs_period', 'basis']\n",
    "\n",
    "    Returns\n",
    "    -------\n",
    "    pd.DataFrame\n",
    "        Summary statistics for each product\n",
    "    \"\"\"\n",
    "    summary_list = []\n",
    "\n",
    "    for code, group in basis_df.groupby(\"product_code\"):\n",
    "        basis = group[\"basis\"].mean()\n",
    "        n_obs = group[\"basis\"].count()\n",
    "        freq_bw = (group[\"basis\"] > 0).mean() * 100\n",
    "        # expected_ret = excess_return_df[\"excess_return\"].mean()\n",
    "        # std_ret = group[\"basis\"].std()\n",
    "        # sharpe = expected_ret / std_ret if std_ret != 0 else np.nan\n",
    "\n",
    "        summary_list.append({\n",
    "            \"product_code\": code,\n",
    "            \"N\": n_obs,\n",
    "            \"Basis\": basis,\n",
    "            \"Freq. of bw.\": freq_bw,\n",
    "            # \"E[Re]\": expected_ret,\n",
    "            # \"σ[Re]\": std_ret,\n",
    "            # \"Sharpe ratio\": sharpe\n",
    "        })\n",
    "\n",
    "    return pd.DataFrame(summary_list)\n"
   ]
  },
  {
   "cell_type": "code",
   "execution_count": null,
   "id": "37d5e233",
   "metadata": {},
   "outputs": [],
   "source": [
    "sample_df = basis_df[(basis_df[\"obs_period\"] >= \"1970-01\") & (basis_df[\"obs_period\"] <= \"2008-12\")]"
   ]
  },
  {
   "cell_type": "code",
   "execution_count": null,
   "id": "3d946067",
   "metadata": {},
   "outputs": [],
   "source": [
    "summary_df = compute_summary_stats(sample_df)"
   ]
  },
  {
   "cell_type": "code",
   "execution_count": null,
   "id": "baf70831",
   "metadata": {},
   "outputs": [],
   "source": [
    "summary_df"
   ]
  },
  {
   "cell_type": "code",
   "execution_count": null,
   "id": "333803ef",
   "metadata": {},
   "outputs": [],
   "source": [
    "PRODUCT_NAME_MAP = {\n",
    "    3160: \"Barley\",               \n",
    "    289:  \"Butter\",               \n",
    "    3161: \"Canola\",               \n",
    "    1980: \"Cocoa\",                \n",
    "    2038: \"Coffee\",               \n",
    "    3247: \"Corn\",                 \n",
    "    1992: \"Cotton\",               \n",
    "    361:  \"Lumber\",               \n",
    "    385:  \"Oats\",                 \n",
    "    2036: \"Orange Juice\",         \n",
    "    379:  \"Rough Rice\",           \n",
    "    3256: \"Soybean Meal\",         \n",
    "    396:  \"Soybeans\",             \n",
    "    430:  \"Wheat\",                \n",
    "    1986: \"Crude Oil\",            \n",
    "    2091: \"Gasoline\",             \n",
    "    2029: \"Heating Oil\",          \n",
    "    2060: \"Natural Gas\",          \n",
    "    3847: \"Propane\",              \n",
    "    2032: \"Unleaded Gas\",         \n",
    "    3250: \"Feeder Cattle\",        \n",
    "    2676: \"Lean Hogs\",            \n",
    "    2675: \"Live Cattle\",          \n",
    "    3126: \"Aluminum\",             \n",
    "    2087: \"Coal\",                 \n",
    "    2026: \"Copper\",               \n",
    "    2020: \"Gold\",                 \n",
    "    2065: \"Palladium\",            \n",
    "    2074: \"Platinum\",             \n",
    "    2108: \"Silver\"                \n",
    "}\n",
    "\n",
    "summary_df[\"Commodity\"] = summary_df[\"product_code\"].map(PRODUCT_NAME_MAP)"
   ]
  },
  {
   "cell_type": "code",
   "execution_count": null,
   "id": "540f45b3",
   "metadata": {},
   "outputs": [],
   "source": [
    "summary_df"
   ]
  },
  {
   "cell_type": "code",
   "execution_count": null,
   "id": "5d637fc7",
   "metadata": {},
   "outputs": [],
   "source": [
    "import pandas as pd\n",
    "\n",
    "# Manually reloading the structured data from the LaTeX table (N and Basis columns only)\n",
    "data = [\n",
    "    # Agriculture\n",
    "    [\"Barley\", \"WA\", 235, -3.66],\n",
    "    [\"Butter\", \"02\", 141, -3.68],\n",
    "    [\"Canola\", \"WC\", 377, -2.98],\n",
    "    [\"Cocoa\", \"CC\", 452, -2.61],\n",
    "    [\"Coffee\", \"KC\", 420, -2.57],\n",
    "    [\"Corn\", \"C-\", 468, -6.03],\n",
    "    [\"Cotton\", \"CT\", 452, -1.75],\n",
    "    [\"Lumber\", \"LB\", 468, -5.63],\n",
    "    [\"Oats\", \"O-\", 468, -5.65],\n",
    "    [\"Orange Juice\", \"JO\", 448, -3.08],\n",
    "    [\"Rough Rice\", \"RR\", 265, -7.56],\n",
    "    [\"Soybean Meal\", \"SM\", 468, 0.20],\n",
    "    [\"Soybeans\", \"S-\", 468, -0.58],\n",
    "    [\"Wheat\", \"W-\", 468, -2.88],\n",
    "    # Energy\n",
    "    [\"Crude Oil\", \"CL\", 295, 4.25],\n",
    "    [\"Gasoline\", \"RB\", 275, 8.09],\n",
    "    [\"Heating Oil\", \"HO\", 345, 1.49],\n",
    "    [\"Natural Gas\", \"NG\", 216, -3.63],\n",
    "    [\"Propane\", \"PN\", 247, 5.53],\n",
    "    [\"Unleaded Gas\", \"HU\", 250, 8.62],\n",
    "    # Livestock\n",
    "    [\"Broilers\", \"BR\", 19, 4.58],\n",
    "    [\"Feeder Cattle\", \"FC\", 443, 0.35],\n",
    "    [\"Lean Hogs\", \"LH\", 468, 2.66],\n",
    "    [\"Live Cattle\", \"LC\", 468, 0.46],\n",
    "    # Metals\n",
    "    [\"Aluminum\", \"AL\", 215, 1.06],\n",
    "    [\"Coal\", \"QL\", 85, -1.55],\n",
    "    [\"Copper\", \"HG\", 412, 0.52],\n",
    "    [\"Gold\", \"GC\", 400, -6.24],\n",
    "    [\"Palladium\", \"PA\", 362, -2.16],\n",
    "    [\"Platinum\", \"PL\", 410, -3.21],\n",
    "    [\"Silver\", \"SI\", 419, -6.51]\n",
    "]\n",
    "\n",
    "# Create DataFrame\n",
    "paper_table = pd.DataFrame(data, columns=[\"Commodity\", \"Symbol\", \"N\", \"Basis\"])\n"
   ]
  },
  {
   "cell_type": "code",
   "execution_count": null,
   "id": "60e60d30",
   "metadata": {},
   "outputs": [],
   "source": [
    "paper_table"
   ]
  },
  {
   "cell_type": "code",
   "execution_count": null,
   "id": "de66b684",
   "metadata": {},
   "outputs": [],
   "source": [
    "comparison_df = summary_df.merge(paper_table,on=\"Commodity\")\n",
    "comparison_df[\"N_diff\"] = comparison_df[\"N_x\"] - comparison_df[\"N_y\"]\n",
    "comparison_df[\"Basis_diff\"] = comparison_df[\"Basis_x\"] - comparison_df[\"Basis_y\"]\n",
    "comparison_df[\"Basis_pct\"] = comparison_df[\"Basis_diff\"] / comparison_df[\"Basis_y\"]\n",
    "comparison_df[\"N_pct\"] = comparison_df[\"N_diff\"] / comparison_df[\"N_y\"]\n",
    "comparison_df[[\"Commodity\",\"Basis_diff\",\"Basis_pct\",\"N_diff\",\"N_pct\"]]"
   ]
  },
  {
   "cell_type": "code",
   "execution_count": null,
   "id": "2647da9e",
   "metadata": {},
   "outputs": [],
   "source": [
    "monthly_df"
   ]
  },
  {
   "cell_type": "code",
   "execution_count": null,
   "id": "1af2fcec",
   "metadata": {},
   "outputs": [],
   "source": [
    "def compute_monthly_excess_return(df: pd.DataFrame) -> pd.DataFrame:\n",
    "    \"\"\"\n",
    "    Compute monthly excess return for each commodity and contract maturity.\n",
    "    \n",
    "    Parameters\n",
    "    ----------\n",
    "    df : pd.DataFrame\n",
    "        Must contain columns: ['product_code', 'obs_period', 'contr_period', 'settlement']\n",
    "\n",
    "    Returns\n",
    "    -------\n",
    "    pd.DataFrame\n",
    "        DataFrame with added 'excess_return' column.\n",
    "    \"\"\"\n",
    "    df = df.copy()\n",
    "    \n",
    "    # Convert period columns to datetime\n",
    "    # df['obs_period'] = pd.to_datetime(df['obs_period'])\n",
    "    # df['contr_period'] = pd.to_datetime(df['contr_period'])\n",
    "\n",
    "    # Sort for lagging purposes\n",
    "    # what if shift one goes to the previous one? with differnet product number?\n",
    "    df.sort_values(by=['product_code', 'contr_period', 'obs_period'], inplace=True)\n",
    "\n",
    "    # Group by product_code and contract maturity\n",
    "    df['F_t'] = df['settlement']\n",
    "    df['F_t+1'] = df.groupby(['product_code', 'contr_period'])['settlement'].shift(-1)\n",
    "\n",
    "    # Compute return (only when both F_t and F_t+1 are available)\n",
    "    df['excess_return'] = df['F_t+1'] / df['F_t'] - 1\n",
    "    df = df.dropna(subset=['excess_return'])\n",
    "\n",
    "    return df\n"
   ]
  },
  {
   "cell_type": "code",
   "execution_count": null,
   "id": "5c6f7068",
   "metadata": {},
   "outputs": [],
   "source": [
    "compute_monthly_excess_return(monthly_df)"
   ]
  },
  {
   "cell_type": "code",
   "execution_count": null,
   "id": "4deef229",
   "metadata": {},
   "outputs": [],
   "source": [
    "def summarize_excess_return(df: pd.DataFrame) -> pd.DataFrame:\n",
    "    \"\"\"\n",
    "    Summarize monthly excess return statistics by product_code.\n",
    "\n",
    "    Parameters\n",
    "    ----------\n",
    "    df : pd.DataFrame\n",
    "        Must contain: 'product_code', 'excess_return', 'basis' (optional)\n",
    "\n",
    "    Returns\n",
    "    -------\n",
    "    pd.DataFrame\n",
    "        Summary table with N, Basis, Freq. of bw., E[Re], σ[Re], Sharpe ratio\n",
    "    \"\"\"\n",
    "    grouped = df.groupby(\"product_code\")\n",
    "\n",
    "    summary = pd.DataFrame({\n",
    "        # \"N\": grouped.size(),\n",
    "        # \"Basis\": grouped[\"basis\"].mean() * 12 if \"basis\" in df.columns else np.nan,\n",
    "        # \"Freq. of bw.\": grouped.apply(lambda g: (g[\"basis\"] > 0).mean() * 100 if \"basis\" in g else np.nan),\n",
    "        \"E[Re]\": grouped[\"excess_return\"].mean() * 12 * 100,\n",
    "        \"σ[Re]\": grouped[\"excess_return\"].std(ddof=0) * np.sqrt(12) * 100,\n",
    "    })\n",
    "\n",
    "    summary[\"Sharpe ratio\"] = summary[\"E[Re]\"] / summary[\"σ[Re]\"] * 100\n",
    "\n",
    "    return summary\n"
   ]
  },
  {
   "cell_type": "code",
   "execution_count": null,
   "id": "c20e1086",
   "metadata": {},
   "outputs": [],
   "source": [
    "summary_df_with_sharpe = summarize_excess_return(compute_monthly_excess_return(monthly_df))"
   ]
  },
  {
   "cell_type": "code",
   "execution_count": null,
   "id": "9100ebb0",
   "metadata": {},
   "outputs": [],
   "source": [
    "summary_df_with_sharpe = summary_df_with_sharpe.reset_index()"
   ]
  },
  {
   "cell_type": "code",
   "execution_count": null,
   "id": "7b7e1edb",
   "metadata": {},
   "outputs": [],
   "source": [
    "summary_df_with_sharpe[\"Commodity\"] = summary_df_with_sharpe[\"product_code\"].map(PRODUCT_NAME_MAP)"
   ]
  },
  {
   "cell_type": "code",
   "execution_count": null,
   "id": "e0fe6a4d",
   "metadata": {},
   "outputs": [],
   "source": [
    "summary_df_with_sharpe"
   ]
  },
  {
   "cell_type": "code",
   "execution_count": null,
   "id": "ad7088b3",
   "metadata": {},
   "outputs": [],
   "source": [
    "monthly_excess_return = compute_monthly_excess_return(monthly_df)"
   ]
  },
  {
   "cell_type": "code",
   "execution_count": null,
   "id": "51b820cb",
   "metadata": {},
   "outputs": [],
   "source": [
    "monthly_excess_return[\"months_to_maturity\"] = (monthly_excess_return[\"contr_period\"] - monthly_excess_return[\"obs_period\"]).apply(lambda x: x.n)"
   ]
  },
  {
   "cell_type": "code",
   "execution_count": null,
   "id": "f9f83892",
   "metadata": {},
   "outputs": [],
   "source": [
    "monthly_excess_return"
   ]
  },
  {
   "cell_type": "code",
   "execution_count": null,
   "id": "c5ec67ed",
   "metadata": {},
   "outputs": [],
   "source": [
    "df_filtered = monthly_excess_return[monthly_excess_return[\"months_to_maturity\"] <= 4]\n",
    "he_rep_returns = (\n",
    "    df_filtered.groupby([\"product_code\", \"obs_period\"])[\"excess_return\"]\n",
    "    .mean()\n",
    "    .reset_index())"
   ]
  },
  {
   "cell_type": "code",
   "execution_count": null,
   "id": "1e5ac63e",
   "metadata": {},
   "outputs": [],
   "source": [
    "he_rep_returns[\"Commodity\"] = he_rep_returns[\"product_code\"].map(PRODUCT_NAME_MAP)"
   ]
  },
  {
   "cell_type": "code",
   "execution_count": null,
   "id": "c39213e2",
   "metadata": {},
   "outputs": [],
   "source": [
    "returns_pivot = he_rep_returns.pivot(\n",
    "    index=\"obs_period\", columns=\"Commodity\", values=\"excess_return\"\n",
    ")"
   ]
  },
  {
   "cell_type": "code",
   "execution_count": null,
   "id": "af8797eb",
   "metadata": {},
   "outputs": [],
   "source": [
    "returns_pivot\n"
   ]
  },
  {
   "cell_type": "code",
   "execution_count": null,
   "id": "a10f09c9",
   "metadata": {},
   "outputs": [],
   "source": [
    "import sys\n",
    "from pathlib import Path\n",
    "\n",
    "import pandas as pd\n",
    "import seaborn as sns\n",
    "from matplotlib import pyplot as plt\n",
    "\n",
    "# Plotting style\n",
    "sns.set()\n",
    "\n",
    "# Add project root to path\n",
    "project_root = Path().resolve().parent\n",
    "sys.path.insert(0, str(project_root))\n",
    "\n",
    "# Load project modules\n",
    "from he_kelly_manela import pull_he_kelly_manela\n",
    "\n",
    "# Load project settings\n",
    "from settings import config\n",
    "\n",
    "DATA_DIR = Path(config(\"DATA_DIR\")) / \"cds_returns\"\n",
    "HE_DATA_DIR = Path(config(\"DATA_DIR\")) / \"he_kelly_manela\"\n",
    "\n"
   ]
  },
  {
   "cell_type": "code",
   "execution_count": null,
   "id": "6bd522c1",
   "metadata": {},
   "outputs": [],
   "source": [
    "from he_kelly_manela import pull_he_kelly_manela\n",
    "he_kelly = pull_he_kelly_manela.load_he_kelly_manela_all(data_dir=HE_DATA_DIR)\n",
    "\n",
    "he_kelly.columns.str.contains(\"cmd\").sum()"
   ]
  },
  {
   "cell_type": "code",
   "execution_count": null,
   "id": "433a6842",
   "metadata": {},
   "outputs": [],
   "source": [
    "\n",
    "col_lst = [\"yyyymm\"]\n",
    "for i in range(1, 10):\n",
    "    col_lst.append(f\"Commod_0{i}\")\n",
    "for i in range(10, 24):\n",
    "    col_lst.append(f\"Commod_{i}\")\n",
    "\n",
    "# %%\n",
    "he_kelly_df = he_kelly[col_lst].dropna(axis=0)\n",
    "he_kelly_df[\"Month\"] = pd.to_datetime(\n",
    "    he_kelly_df[\"yyyymm\"].astype(int).astype(str), format=\"%Y%m\"\n",
    ")\n",
    "he_kelly_df = he_kelly_df.drop(columns=\"yyyymm\")\n",
    "he_kelly_df = he_kelly_df.set_index(\"Month\")\n"
   ]
  },
  {
   "cell_type": "code",
   "execution_count": null,
   "id": "096ecd72",
   "metadata": {},
   "outputs": [],
   "source": [
    "he_kelly_df"
   ]
  },
  {
   "cell_type": "code",
   "execution_count": null,
   "id": "82111227",
   "metadata": {},
   "outputs": [],
   "source": [
    "returns_pivot = returns_pivot.fillna(0)\n",
    "returns_pivot = returns_pivot.reset_index().set_index(\"obs_period\")"
   ]
  },
  {
   "cell_type": "code",
   "execution_count": null,
   "id": "45a392fa",
   "metadata": {},
   "outputs": [],
   "source": [
    "returns_pivot.index = returns_pivot.index.rename('Month')"
   ]
  },
  {
   "cell_type": "code",
   "execution_count": null,
   "id": "552fb553",
   "metadata": {},
   "outputs": [],
   "source": [
    "he_kelly_df.index"
   ]
  },
  {
   "cell_type": "code",
   "execution_count": null,
   "id": "5a2379c8",
   "metadata": {},
   "outputs": [],
   "source": [
    "he_kelly_df.index = he_kelly_df.index.to_period('M')\n"
   ]
  },
  {
   "cell_type": "code",
   "execution_count": null,
   "id": "b6ac7dbd",
   "metadata": {},
   "outputs": [],
   "source": [
    "returns_pivot = returns_pivot[\"1986-09\":\"2012-12\"]"
   ]
  },
  {
   "cell_type": "code",
   "execution_count": null,
   "id": "0f42e2e6",
   "metadata": {},
   "outputs": [],
   "source": [
    "corr_matrix = pd.DataFrame(index=returns_pivot.columns, columns=he_kelly_df.columns)\n",
    "\n",
    "\n",
    "for col1 in returns_pivot.columns:\n",
    "    for col2 in he_kelly_df.columns:\n",
    "        x = returns_pivot[col1].fillna(0)\n",
    "        y = he_kelly_df[col2].fillna(0)\n",
    "        corr_matrix.loc[col1, col2] = x.corr(y)"
   ]
  },
  {
   "cell_type": "code",
   "execution_count": null,
   "id": "a77e0296",
   "metadata": {},
   "outputs": [],
   "source": [
    "returns_pivot"
   ]
  },
  {
   "cell_type": "code",
   "execution_count": null,
   "id": "843739ac",
   "metadata": {},
   "outputs": [],
   "source": [
    "corr_matrix"
   ]
  },
  {
   "cell_type": "code",
   "execution_count": null,
   "id": "e779d555",
   "metadata": {},
   "outputs": [],
   "source": [
    "corr_matrix_float = corr_matrix.astype(float)\n",
    "import matplotlib.pyplot as plt\n",
    "import seaborn as sns\n",
    "\n",
    "\n",
    "corr_matrix = corr_matrix.astype(float)\n",
    "\n",
    "plt.figure(figsize=(10, 8))\n",
    "\n",
    "sns.heatmap(\n",
    "    corr_matrix_float,\n",
    "    annot=False,      \n",
    "    fmt=\".2f\",       \n",
    "    cmap=\"coolwarm\",  \n",
    "    vmin=-1, vmax=1,  \n",
    "    square=True,\n",
    "    linewidths=0.5,\n",
    "    cbar=True\n",
    ")\n",
    "\n",
    "plt.title(\"Correlation Heatmap\")\n",
    "plt.tight_layout()\n",
    "plt.show()\n"
   ]
  }
 ],
 "metadata": {
  "kernelspec": {
   "display_name": "blank",
   "language": "python",
   "name": "python3"
  },
  "language_info": {
   "codemirror_mode": {
    "name": "ipython",
    "version": 3
   },
   "file_extension": ".py",
   "mimetype": "text/x-python",
   "name": "python",
   "nbconvert_exporter": "python",
   "pygments_lexer": "ipython3",
   "version": "3.12.8"
  }
 },
 "nbformat": 4,
 "nbformat_minor": 5
}
